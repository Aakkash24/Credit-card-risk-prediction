{
  "nbformat": 4,
  "nbformat_minor": 0,
  "metadata": {
    "colab": {
      "name": "Credit card Risk.ipynb",
      "provenance": [],
      "collapsed_sections": []
    },
    "kernelspec": {
      "name": "python3",
      "display_name": "Python 3"
    },
    "language_info": {
      "name": "python"
    },
    "accelerator": "GPU"
  },
  "cells": [
    {
      "cell_type": "markdown",
      "metadata": {
        "id": "OZqjrWgb6SXt"
      },
      "source": [
        "# Credit card Risk Detection\n"
      ]
    },
    {
      "cell_type": "markdown",
      "metadata": {
        "id": "Zi9TxntO6YFK"
      },
      "source": [
        "## Downloading the dataset"
      ]
    },
    {
      "cell_type": "code",
      "metadata": {
        "id": "lxhowFUk5Ti8"
      },
      "source": [
        "import pandas as pd \n",
        "import numpy as np\n",
        "\n",
        "credit_df =pd.read_csv('german_credit_data.csv')"
      ],
      "execution_count": null,
      "outputs": []
    },
    {
      "cell_type": "code",
      "metadata": {
        "colab": {
          "base_uri": "https://localhost:8080/",
          "height": 203
        },
        "id": "MBdVIT5Y6kdi",
        "outputId": "321177cb-3ca9-43c9-e10d-6d102480e1b6"
      },
      "source": [
        "credit_df.head(5)"
      ],
      "execution_count": null,
      "outputs": [
        {
          "output_type": "execute_result",
          "data": {
            "text/html": [
              "<div>\n",
              "<style scoped>\n",
              "    .dataframe tbody tr th:only-of-type {\n",
              "        vertical-align: middle;\n",
              "    }\n",
              "\n",
              "    .dataframe tbody tr th {\n",
              "        vertical-align: top;\n",
              "    }\n",
              "\n",
              "    .dataframe thead th {\n",
              "        text-align: right;\n",
              "    }\n",
              "</style>\n",
              "<table border=\"1\" class=\"dataframe\">\n",
              "  <thead>\n",
              "    <tr style=\"text-align: right;\">\n",
              "      <th></th>\n",
              "      <th>Unnamed: 0</th>\n",
              "      <th>Age</th>\n",
              "      <th>Sex</th>\n",
              "      <th>Job</th>\n",
              "      <th>Housing</th>\n",
              "      <th>Saving accounts</th>\n",
              "      <th>Checking account</th>\n",
              "      <th>Credit amount</th>\n",
              "      <th>Duration</th>\n",
              "      <th>Purpose</th>\n",
              "      <th>Risk</th>\n",
              "    </tr>\n",
              "  </thead>\n",
              "  <tbody>\n",
              "    <tr>\n",
              "      <th>0</th>\n",
              "      <td>0</td>\n",
              "      <td>67</td>\n",
              "      <td>male</td>\n",
              "      <td>2</td>\n",
              "      <td>own</td>\n",
              "      <td>NaN</td>\n",
              "      <td>little</td>\n",
              "      <td>1169</td>\n",
              "      <td>6</td>\n",
              "      <td>radio/TV</td>\n",
              "      <td>good</td>\n",
              "    </tr>\n",
              "    <tr>\n",
              "      <th>1</th>\n",
              "      <td>1</td>\n",
              "      <td>22</td>\n",
              "      <td>female</td>\n",
              "      <td>2</td>\n",
              "      <td>own</td>\n",
              "      <td>little</td>\n",
              "      <td>moderate</td>\n",
              "      <td>5951</td>\n",
              "      <td>48</td>\n",
              "      <td>radio/TV</td>\n",
              "      <td>bad</td>\n",
              "    </tr>\n",
              "    <tr>\n",
              "      <th>2</th>\n",
              "      <td>2</td>\n",
              "      <td>49</td>\n",
              "      <td>male</td>\n",
              "      <td>1</td>\n",
              "      <td>own</td>\n",
              "      <td>little</td>\n",
              "      <td>NaN</td>\n",
              "      <td>2096</td>\n",
              "      <td>12</td>\n",
              "      <td>education</td>\n",
              "      <td>good</td>\n",
              "    </tr>\n",
              "    <tr>\n",
              "      <th>3</th>\n",
              "      <td>3</td>\n",
              "      <td>45</td>\n",
              "      <td>male</td>\n",
              "      <td>2</td>\n",
              "      <td>free</td>\n",
              "      <td>little</td>\n",
              "      <td>little</td>\n",
              "      <td>7882</td>\n",
              "      <td>42</td>\n",
              "      <td>furniture/equipment</td>\n",
              "      <td>good</td>\n",
              "    </tr>\n",
              "    <tr>\n",
              "      <th>4</th>\n",
              "      <td>4</td>\n",
              "      <td>53</td>\n",
              "      <td>male</td>\n",
              "      <td>2</td>\n",
              "      <td>free</td>\n",
              "      <td>little</td>\n",
              "      <td>little</td>\n",
              "      <td>4870</td>\n",
              "      <td>24</td>\n",
              "      <td>car</td>\n",
              "      <td>bad</td>\n",
              "    </tr>\n",
              "  </tbody>\n",
              "</table>\n",
              "</div>"
            ],
            "text/plain": [
              "   Unnamed: 0  Age     Sex  ...  Duration              Purpose  Risk\n",
              "0           0   67    male  ...         6             radio/TV  good\n",
              "1           1   22  female  ...        48             radio/TV   bad\n",
              "2           2   49    male  ...        12            education  good\n",
              "3           3   45    male  ...        42  furniture/equipment  good\n",
              "4           4   53    male  ...        24                  car   bad\n",
              "\n",
              "[5 rows x 11 columns]"
            ]
          },
          "metadata": {},
          "execution_count": 88
        }
      ]
    },
    {
      "cell_type": "code",
      "metadata": {
        "id": "sYf593GL3Jrc"
      },
      "source": [
        "credit_df.drop(columns = ['Unnamed: 0'],inplace=True)"
      ],
      "execution_count": null,
      "outputs": []
    },
    {
      "cell_type": "code",
      "metadata": {
        "colab": {
          "base_uri": "https://localhost:8080/"
        },
        "id": "jKlJhCT76ote",
        "outputId": "4281b699-e0b9-47ee-8aca-320f6f577694"
      },
      "source": [
        "credit_df.info()"
      ],
      "execution_count": null,
      "outputs": [
        {
          "output_type": "stream",
          "name": "stdout",
          "text": [
            "<class 'pandas.core.frame.DataFrame'>\n",
            "Int64Index: 522 entries, 1 to 999\n",
            "Data columns (total 10 columns):\n",
            " #   Column            Non-Null Count  Dtype \n",
            "---  ------            --------------  ----- \n",
            " 0   Age               522 non-null    int64 \n",
            " 1   Sex               522 non-null    object\n",
            " 2   Job               522 non-null    int64 \n",
            " 3   Housing           522 non-null    object\n",
            " 4   Saving accounts   522 non-null    object\n",
            " 5   Checking account  522 non-null    object\n",
            " 6   Credit amount     522 non-null    int64 \n",
            " 7   Duration          522 non-null    int64 \n",
            " 8   Purpose           522 non-null    object\n",
            " 9   Risk              522 non-null    object\n",
            "dtypes: int64(4), object(6)\n",
            "memory usage: 44.9+ KB\n"
          ]
        }
      ]
    },
    {
      "cell_type": "markdown",
      "metadata": {
        "id": "WjTBYDwu6ucm"
      },
      "source": [
        "We can see that there are some missing values in the dataset"
      ]
    },
    {
      "cell_type": "code",
      "metadata": {
        "colab": {
          "base_uri": "https://localhost:8080/",
          "height": 295
        },
        "id": "H-tW_xHJ6rvD",
        "outputId": "d066c7bc-37a0-4549-dc92-dff929458401"
      },
      "source": [
        "credit_df.describe()"
      ],
      "execution_count": null,
      "outputs": [
        {
          "output_type": "execute_result",
          "data": {
            "text/html": [
              "<div>\n",
              "<style scoped>\n",
              "    .dataframe tbody tr th:only-of-type {\n",
              "        vertical-align: middle;\n",
              "    }\n",
              "\n",
              "    .dataframe tbody tr th {\n",
              "        vertical-align: top;\n",
              "    }\n",
              "\n",
              "    .dataframe thead th {\n",
              "        text-align: right;\n",
              "    }\n",
              "</style>\n",
              "<table border=\"1\" class=\"dataframe\">\n",
              "  <thead>\n",
              "    <tr style=\"text-align: right;\">\n",
              "      <th></th>\n",
              "      <th>Age</th>\n",
              "      <th>Job</th>\n",
              "      <th>Credit amount</th>\n",
              "      <th>Duration</th>\n",
              "    </tr>\n",
              "  </thead>\n",
              "  <tbody>\n",
              "    <tr>\n",
              "      <th>count</th>\n",
              "      <td>522.000000</td>\n",
              "      <td>522.000000</td>\n",
              "      <td>522.000000</td>\n",
              "      <td>522.000000</td>\n",
              "    </tr>\n",
              "    <tr>\n",
              "      <th>mean</th>\n",
              "      <td>34.888889</td>\n",
              "      <td>1.875479</td>\n",
              "      <td>3278.745211</td>\n",
              "      <td>21.339080</td>\n",
              "    </tr>\n",
              "    <tr>\n",
              "      <th>std</th>\n",
              "      <td>11.787918</td>\n",
              "      <td>0.682811</td>\n",
              "      <td>2929.155177</td>\n",
              "      <td>12.474079</td>\n",
              "    </tr>\n",
              "    <tr>\n",
              "      <th>min</th>\n",
              "      <td>19.000000</td>\n",
              "      <td>0.000000</td>\n",
              "      <td>276.000000</td>\n",
              "      <td>6.000000</td>\n",
              "    </tr>\n",
              "    <tr>\n",
              "      <th>25%</th>\n",
              "      <td>26.000000</td>\n",
              "      <td>2.000000</td>\n",
              "      <td>1297.500000</td>\n",
              "      <td>12.000000</td>\n",
              "    </tr>\n",
              "    <tr>\n",
              "      <th>50%</th>\n",
              "      <td>31.500000</td>\n",
              "      <td>2.000000</td>\n",
              "      <td>2326.500000</td>\n",
              "      <td>18.000000</td>\n",
              "    </tr>\n",
              "    <tr>\n",
              "      <th>75%</th>\n",
              "      <td>41.000000</td>\n",
              "      <td>2.000000</td>\n",
              "      <td>3971.250000</td>\n",
              "      <td>26.750000</td>\n",
              "    </tr>\n",
              "    <tr>\n",
              "      <th>max</th>\n",
              "      <td>75.000000</td>\n",
              "      <td>3.000000</td>\n",
              "      <td>18424.000000</td>\n",
              "      <td>72.000000</td>\n",
              "    </tr>\n",
              "  </tbody>\n",
              "</table>\n",
              "</div>"
            ],
            "text/plain": [
              "              Age         Job  Credit amount    Duration\n",
              "count  522.000000  522.000000     522.000000  522.000000\n",
              "mean    34.888889    1.875479    3278.745211   21.339080\n",
              "std     11.787918    0.682811    2929.155177   12.474079\n",
              "min     19.000000    0.000000     276.000000    6.000000\n",
              "25%     26.000000    2.000000    1297.500000   12.000000\n",
              "50%     31.500000    2.000000    2326.500000   18.000000\n",
              "75%     41.000000    2.000000    3971.250000   26.750000\n",
              "max     75.000000    3.000000   18424.000000   72.000000"
            ]
          },
          "metadata": {},
          "execution_count": 94
        }
      ]
    },
    {
      "cell_type": "markdown",
      "metadata": {
        "id": "KerPhkwd6x3G"
      },
      "source": [
        "## EDA"
      ]
    },
    {
      "cell_type": "code",
      "metadata": {
        "id": "PN-PUPN36yqZ"
      },
      "source": [
        "import matplotlib\n",
        "import matplotlib.pyplot as plt\n",
        "import seaborn as sns\n",
        "import plotly.express as px"
      ],
      "execution_count": null,
      "outputs": []
    },
    {
      "cell_type": "code",
      "metadata": {
        "colab": {
          "base_uri": "https://localhost:8080/"
        },
        "id": "uS-DiWFd7Ps9",
        "outputId": "a1aa501a-00ce-4343-e60f-4b60a3bdbdc4"
      },
      "source": [
        "credit_df.columns"
      ],
      "execution_count": null,
      "outputs": [
        {
          "output_type": "execute_result",
          "data": {
            "text/plain": [
              "Index(['Age', 'Sex', 'Job', 'Housing', 'Saving accounts', 'Checking account',\n",
              "       'Credit amount', 'Duration', 'Purpose', 'Risk'],\n",
              "      dtype='object')"
            ]
          },
          "metadata": {},
          "execution_count": 96
        }
      ]
    },
    {
      "cell_type": "code",
      "metadata": {
        "colab": {
          "base_uri": "https://localhost:8080/",
          "height": 623
        },
        "id": "wK0JIe3k7a-E",
        "outputId": "c7536b9a-b7ae-4fa0-80f3-d00fcea232e2"
      },
      "source": [
        "sns.histplot(credit_df,x='Age')"
      ],
      "execution_count": null,
      "outputs": [
        {
          "output_type": "execute_result",
          "data": {
            "text/plain": [
              "<matplotlib.axes._subplots.AxesSubplot at 0x7fe5e2020950>"
            ]
          },
          "metadata": {},
          "execution_count": 97
        },
        {
          "output_type": "display_data",
          "data": {
            "image/png": "[encoded data removed]",
            "text/plain": [
              "<Figure size 720x720 with 1 Axes>"
            ]
          },
          "metadata": {
            "needs_background": "light"
          }
        }
      ]
    },
    {
      "cell_type": "markdown",
      "metadata": {
        "id": "7mn1Fzmc7xq9"
      },
      "source": [
        "It seems like more number of customers belong to the age group 20-30"
      ]
    },
    {
      "cell_type": "code",
      "metadata": {
        "colab": {
          "base_uri": "https://localhost:8080/",
          "height": 623
        },
        "id": "7H6ZqbBA72to",
        "outputId": "9d7c282c-dce0-4632-e735-22bd280e450d"
      },
      "source": [
        "sns.histplot(credit_df,x='Sex')"
      ],
      "execution_count": null,
      "outputs": [
        {
          "output_type": "execute_result",
          "data": {
            "text/plain": [
              "<matplotlib.axes._subplots.AxesSubplot at 0x7fe5e2063d90>"
            ]
          },
          "metadata": {},
          "execution_count": 98
        },
        {
          "output_type": "display_data",
          "data": {
            "image/png": "[encoded data removed]",
            "text/plain": [
              "<Figure size 720x720 with 1 Axes>"
            ]
          },
          "metadata": {
            "needs_background": "light"
          }
        }
      ]
    },
    {
      "cell_type": "markdown",
      "metadata": {
        "id": "Xvt9S0J878pO"
      },
      "source": [
        "Male customers are more than the female customers"
      ]
    },
    {
      "cell_type": "code",
      "metadata": {
        "colab": {
          "base_uri": "https://localhost:8080/",
          "height": 623
        },
        "id": "B-iRggYa7_hG",
        "outputId": "06937207-cd12-41ec-dfc4-17bcda066b9b"
      },
      "source": [
        "sns.histplot(credit_df,x='Credit amount')"
      ],
      "execution_count": null,
      "outputs": [
        {
          "output_type": "execute_result",
          "data": {
            "text/plain": [
              "<matplotlib.axes._subplots.AxesSubplot at 0x7fe5e1f6ce50>"
            ]
          },
          "metadata": {},
          "execution_count": 99
        },
        {
          "output_type": "display_data",
          "data": {
            "image/png": "[encoded data removed]",
            "text/plain": [
              "<Figure size 720x720 with 1 Axes>"
            ]
          },
          "metadata": {
            "needs_background": "light"
          }
        }
      ]
    },
    {
      "cell_type": "markdown",
      "metadata": {
        "id": "FkPwEmO58D1U"
      },
      "source": [
        "More number of credit amounts are in the range 1000-2500"
      ]
    },
    {
      "cell_type": "code",
      "metadata": {
        "colab": {
          "base_uri": "https://localhost:8080/",
          "height": 623
        },
        "id": "L3XoMAOx9mWM",
        "outputId": "d7bfffa5-1969-4f57-dd29-8b54c08ca1b9"
      },
      "source": [
        "sns.histplot(credit_df,x='Duration')"
      ],
      "execution_count": null,
      "outputs": [
        {
          "output_type": "execute_result",
          "data": {
            "text/plain": [
              "<matplotlib.axes._subplots.AxesSubplot at 0x7fe5e1eb4110>"
            ]
          },
          "metadata": {},
          "execution_count": 100
        },
        {
          "output_type": "display_data",
          "data": {
            "image/png": "[encoded data removed]",
            "text/plain": [
              "<Figure size 720x720 with 1 Axes>"
            ]
          },
          "metadata": {
            "needs_background": "light"
          }
        }
      ]
    },
    {
      "cell_type": "markdown",
      "metadata": {
        "id": "Axb_wOgT-IhU"
      },
      "source": [
        "More number of credit were in duraiton for 1-2 years"
      ]
    },
    {
      "cell_type": "code",
      "metadata": {
        "colab": {
          "base_uri": "https://localhost:8080/"
        },
        "id": "xCanD5C1-pix",
        "outputId": "09f01cc9-12cd-4309-ccb7-e14ca7f07a74"
      },
      "source": [
        "n = credit_df.select_dtypes(np.number).columns.tolist()\n",
        "n"
      ],
      "execution_count": null,
      "outputs": [
        {
          "output_type": "execute_result",
          "data": {
            "text/plain": [
              "['Age', 'Job', 'Credit amount', 'Duration']"
            ]
          },
          "metadata": {},
          "execution_count": 101
        }
      ]
    },
    {
      "cell_type": "code",
      "metadata": {
        "colab": {
          "base_uri": "https://localhost:8080/",
          "height": 1000
        },
        "id": "UV-5Ao97-HTi",
        "outputId": "f0b686f6-ce28-4afb-d478-4d012819903f"
      },
      "source": [
        "for i in n:\n",
        "    fig, ax = plt.subplots()\n",
        "    fig.set_size_inches(12,6)\n",
        "    #plt.xlim(-10,10)\n",
        "    sns.boxplot(x=i,data=credit_df,ax=ax)"
      ],
      "execution_count": null,
      "outputs": [
        {
          "output_type": "display_data",
          "data": {
            "image/png": "[encoded data removed]",
            "text/plain": [
              "<Figure size 864x432 with 1 Axes>"
            ]
          },
          "metadata": {
            "needs_background": "light"
          }
        },
        {
          "output_type": "display_data",
          "data": {
            "image/png": "[encoded data removed]",
            "text/plain": [
              "<Figure size 864x432 with 1 Axes>"
            ]
          },
          "metadata": {
            "needs_background": "light"
          }
        },
        {
          "output_type": "display_data",
          "data": {
            "image/png": "[encoded data removed]",
            "text/plain": [
              "<Figure size 864x432 with 1 Axes>"
            ]
          },
          "metadata": {
            "needs_background": "light"
          }
        },
        {
          "output_type": "display_data",
          "data": {
            "image/png": "[encoded data removed]",
            "text/plain": [
              "<Figure size 864x432 with 1 Axes>"
            ]
          },
          "metadata": {
            "needs_background": "light"
          }
        }
      ]
    },
    {
      "cell_type": "markdown",
      "metadata": {
        "id": "8lMqJo5r-0It"
      },
      "source": [
        "There are some outliers present in this dataset. So let's remove them"
      ]
    },
    {
      "cell_type": "code",
      "metadata": {
        "id": "jOlRUapR-3gd"
      },
      "source": [
        "def outliers(df,fn):\n",
        "  q1 = df[fn].quantile(0.25)\n",
        "  q3 = df[fn].quantile(0.75)\n",
        "  IQR = q3-q1\n",
        "  lower_bound = q1 - 1.5*IQR\n",
        "  upper_bound = q3 + 1.5*IQR\n",
        "  ls = df.index[ (df[fn]<lower_bound) | (df[fn]>upper_bound)]\n",
        "  return ls"
      ],
      "execution_count": null,
      "outputs": []
    },
    {
      "cell_type": "code",
      "metadata": {
        "id": "J31eZPak_dX1"
      },
      "source": [
        "index_list = []\n",
        "for i in n:\n",
        "  index_list.extend(outliers(credit_df,i))"
      ],
      "execution_count": null,
      "outputs": []
    },
    {
      "cell_type": "markdown",
      "metadata": {
        "id": "5gM2_Yu8BAFY"
      },
      "source": [
        "Now let's drop the outliers from the dataset"
      ]
    },
    {
      "cell_type": "code",
      "metadata": {
        "id": "slZ8BD0hA8UC"
      },
      "source": [
        "def remove(df,ls):\n",
        "  ls = sorted(set(index_list))\n",
        "  df = df.drop(ls)\n",
        "  return df"
      ],
      "execution_count": null,
      "outputs": []
    },
    {
      "cell_type": "code",
      "metadata": {
        "id": "9aq3DkqzBE5v"
      },
      "source": [
        "credit_df = remove(credit_df,index_list)"
      ],
      "execution_count": null,
      "outputs": []
    },
    {
      "cell_type": "code",
      "metadata": {
        "colab": {
          "base_uri": "https://localhost:8080/",
          "height": 623
        },
        "id": "693yvYILCtMQ",
        "outputId": "116f8d9f-0e99-4fd1-f54b-be9c238891b2"
      },
      "source": [
        "sns.barplot(data=credit_df,x='Sex',y='Credit amount')"
      ],
      "execution_count": null,
      "outputs": [
        {
          "output_type": "execute_result",
          "data": {
            "text/plain": [
              "<matplotlib.axes._subplots.AxesSubplot at 0x7fe5e3a22710>"
            ]
          },
          "metadata": {},
          "execution_count": 107
        },
        {
          "output_type": "display_data",
          "data": {
            "image/png": "[encoded data removed]",
            "text/plain": [
              "<Figure size 720x720 with 1 Axes>"
            ]
          },
          "metadata": {
            "needs_background": "light"
          }
        }
      ]
    },
    {
      "cell_type": "markdown",
      "metadata": {
        "id": "weieHnptC8tF"
      },
      "source": [
        "Seems like there are more credit amount given for men than women"
      ]
    },
    {
      "cell_type": "code",
      "metadata": {
        "colab": {
          "base_uri": "https://localhost:8080/",
          "height": 623
        },
        "id": "XQxcV4_4Dpw6",
        "outputId": "67dc5c2f-7c34-4bcd-f0d4-dd08f72e59fd"
      },
      "source": [
        "sns.histplot(credit_df,x='Housing',hue='Housing')"
      ],
      "execution_count": null,
      "outputs": [
        {
          "output_type": "execute_result",
          "data": {
            "text/plain": [
              "<matplotlib.axes._subplots.AxesSubplot at 0x7fe5e72d7150>"
            ]
          },
          "metadata": {},
          "execution_count": 108
        },
        {
          "output_type": "display_data",
          "data": {
            "image/png": "[encoded data removed]",
            "text/plain": [
              "<Figure size 720x720 with 1 Axes>"
            ]
          },
          "metadata": {
            "needs_background": "light"
          }
        }
      ]
    },
    {
      "cell_type": "markdown",
      "metadata": {
        "id": "3x_XOlS-D2VC"
      },
      "source": [
        "We can see that people who own a house had applied for credit from bank"
      ]
    },
    {
      "cell_type": "code",
      "metadata": {
        "colab": {
          "base_uri": "https://localhost:8080/",
          "height": 623
        },
        "id": "TdiFPhgtD71A",
        "outputId": "7666dcb1-f038-4446-d1e4-b52f692da64d"
      },
      "source": [
        "matplotlib.rcParams['figure.figsize'] = 10,10\n",
        "sns.histplot(credit_df,x='Purpose',hue='Purpose')"
      ],
      "execution_count": null,
      "outputs": [
        {
          "output_type": "execute_result",
          "data": {
            "text/plain": [
              "<matplotlib.axes._subplots.AxesSubplot at 0x7fe5e3a22850>"
            ]
          },
          "metadata": {},
          "execution_count": 109
        },
        {
          "output_type": "display_data",
          "data": {
            "image/png": "[encoded data removed]",
            "text/plain": [
              "<Figure size 720x720 with 1 Axes>"
            ]
          },
          "metadata": {
            "needs_background": "light"
          }
        }
      ]
    },
    {
      "cell_type": "markdown",
      "metadata": {
        "id": "Ud4A7iwEETF_"
      },
      "source": [
        "We can see that more number of loan is applied for TV/radio purpose"
      ]
    },
    {
      "cell_type": "code",
      "metadata": {
        "colab": {
          "base_uri": "https://localhost:8080/"
        },
        "id": "-1mHfLSSEX29",
        "outputId": "c5be64db-b73a-47e0-ec95-87b1abcacb2e"
      },
      "source": [
        "credit_df.columns"
      ],
      "execution_count": null,
      "outputs": [
        {
          "output_type": "execute_result",
          "data": {
            "text/plain": [
              "Index(['Age', 'Sex', 'Job', 'Housing', 'Saving accounts', 'Checking account',\n",
              "       'Credit amount', 'Duration', 'Purpose', 'Risk'],\n",
              "      dtype='object')"
            ]
          },
          "metadata": {},
          "execution_count": 110
        }
      ]
    },
    {
      "cell_type": "code",
      "metadata": {
        "colab": {
          "base_uri": "https://localhost:8080/",
          "height": 642
        },
        "id": "g70Umr7iE6zc",
        "outputId": "d8097e4e-57d1-4483-dcfc-6553267de692"
      },
      "source": [
        "credit_df.groupby('Sex').mean()[['Age','Duration']].T.plot(kind='bar')"
      ],
      "execution_count": null,
      "outputs": [
        {
          "output_type": "execute_result",
          "data": {
            "text/plain": [
              "<matplotlib.axes._subplots.AxesSubplot at 0x7fe5e1ac9bd0>"
            ]
          },
          "metadata": {},
          "execution_count": 111
        },
        {
          "output_type": "display_data",
          "data": {
            "image/png": "[encoded data removed]",
            "text/plain": [
              "<Figure size 720x720 with 1 Axes>"
            ]
          },
          "metadata": {
            "needs_background": "light"
          }
        }
      ]
    },
    {
      "cell_type": "code",
      "metadata": {
        "colab": {
          "base_uri": "https://localhost:8080/",
          "height": 661
        },
        "id": "7XIsmQeJFg7T",
        "outputId": "6d47f346-a59a-456a-e5b5-a07a2eb4a45c"
      },
      "source": [
        "credit_df.groupby('Saving accounts').mean()['Credit amount'].T.plot(kind='bar')"
      ],
      "execution_count": null,
      "outputs": [
        {
          "output_type": "execute_result",
          "data": {
            "text/plain": [
              "<matplotlib.axes._subplots.AxesSubplot at 0x7fe5e1abf450>"
            ]
          },
          "metadata": {},
          "execution_count": 112
        },
        {
          "output_type": "display_data",
          "data": {
            "image/png": "[encoded data removed]",
            "text/plain": [
              "<Figure size 720x720 with 1 Axes>"
            ]
          },
          "metadata": {
            "needs_background": "light"
          }
        }
      ]
    },
    {
      "cell_type": "markdown",
      "metadata": {
        "id": "bwmhUk9gF9u6"
      },
      "source": [
        "There are more credit account for little saving accounts"
      ]
    },
    {
      "cell_type": "code",
      "metadata": {
        "colab": {
          "base_uri": "https://localhost:8080/",
          "height": 642
        },
        "id": "DohFq2eRGlKf",
        "outputId": "2113d131-54cf-4c50-b0c4-69ecc42c4e69"
      },
      "source": [
        "credit_df.groupby('Saving accounts').mean()[['Age','Duration']].T.plot(kind='bar')"
      ],
      "execution_count": null,
      "outputs": [
        {
          "output_type": "execute_result",
          "data": {
            "text/plain": [
              "<matplotlib.axes._subplots.AxesSubplot at 0x7fe5e1ac9610>"
            ]
          },
          "metadata": {},
          "execution_count": 113
        },
        {
          "output_type": "display_data",
          "data": {
            "image/png": "[encoded data removed]",
            "text/plain": [
              "<Figure size 720x720 with 1 Axes>"
            ]
          },
          "metadata": {
            "needs_background": "light"
          }
        }
      ]
    },
    {
      "cell_type": "markdown",
      "metadata": {
        "id": "qXARLdIABOe3"
      },
      "source": [
        "## Splitting the data for training,validation and testing \n"
      ]
    },
    {
      "cell_type": "code",
      "metadata": {
        "id": "fXvHwzirBP9n"
      },
      "source": [
        "from sklearn.model_selection import train_test_split\n",
        "train_val_df , test_df = train_test_split(credit_df,test_size=0.2,random_state=42)\n",
        "train_df , val_df = train_test_split(credit_df,test_size=0.25,random_state=42)"
      ],
      "execution_count": null,
      "outputs": []
    },
    {
      "cell_type": "code",
      "metadata": {
        "colab": {
          "base_uri": "https://localhost:8080/",
          "height": 203
        },
        "id": "Jf20ooGy6Rxd",
        "outputId": "cfec3f81-956d-4af4-ec87-d7a41fcbe64c"
      },
      "source": [
        "train_df.head()"
      ],
      "execution_count": null,
      "outputs": [
        {
          "output_type": "execute_result",
          "data": {
            "text/html": [
              "<div>\n",
              "<style scoped>\n",
              "    .dataframe tbody tr th:only-of-type {\n",
              "        vertical-align: middle;\n",
              "    }\n",
              "\n",
              "    .dataframe tbody tr th {\n",
              "        vertical-align: top;\n",
              "    }\n",
              "\n",
              "    .dataframe thead th {\n",
              "        text-align: right;\n",
              "    }\n",
              "</style>\n",
              "<table border=\"1\" class=\"dataframe\">\n",
              "  <thead>\n",
              "    <tr style=\"text-align: right;\">\n",
              "      <th></th>\n",
              "      <th>Age</th>\n",
              "      <th>Sex</th>\n",
              "      <th>Job</th>\n",
              "      <th>Housing</th>\n",
              "      <th>Saving accounts</th>\n",
              "      <th>Checking account</th>\n",
              "      <th>Credit amount</th>\n",
              "      <th>Duration</th>\n",
              "      <th>Purpose</th>\n",
              "      <th>Risk</th>\n",
              "    </tr>\n",
              "  </thead>\n",
              "  <tbody>\n",
              "    <tr>\n",
              "      <th>203</th>\n",
              "      <td>21</td>\n",
              "      <td>male</td>\n",
              "      <td>2</td>\n",
              "      <td>rent</td>\n",
              "      <td>little</td>\n",
              "      <td>little</td>\n",
              "      <td>902</td>\n",
              "      <td>12</td>\n",
              "      <td>education</td>\n",
              "      <td>bad</td>\n",
              "    </tr>\n",
              "    <tr>\n",
              "      <th>687</th>\n",
              "      <td>30</td>\n",
              "      <td>male</td>\n",
              "      <td>2</td>\n",
              "      <td>free</td>\n",
              "      <td>moderate</td>\n",
              "      <td>moderate</td>\n",
              "      <td>2862</td>\n",
              "      <td>36</td>\n",
              "      <td>car</td>\n",
              "      <td>good</td>\n",
              "    </tr>\n",
              "    <tr>\n",
              "      <th>114</th>\n",
              "      <td>35</td>\n",
              "      <td>male</td>\n",
              "      <td>2</td>\n",
              "      <td>own</td>\n",
              "      <td>quite rich</td>\n",
              "      <td>little</td>\n",
              "      <td>1680</td>\n",
              "      <td>12</td>\n",
              "      <td>radio/TV</td>\n",
              "      <td>good</td>\n",
              "    </tr>\n",
              "    <tr>\n",
              "      <th>39</th>\n",
              "      <td>24</td>\n",
              "      <td>male</td>\n",
              "      <td>2</td>\n",
              "      <td>own</td>\n",
              "      <td>little</td>\n",
              "      <td>moderate</td>\n",
              "      <td>458</td>\n",
              "      <td>9</td>\n",
              "      <td>radio/TV</td>\n",
              "      <td>good</td>\n",
              "    </tr>\n",
              "    <tr>\n",
              "      <th>986</th>\n",
              "      <td>33</td>\n",
              "      <td>male</td>\n",
              "      <td>2</td>\n",
              "      <td>own</td>\n",
              "      <td>little</td>\n",
              "      <td>rich</td>\n",
              "      <td>6289</td>\n",
              "      <td>42</td>\n",
              "      <td>business</td>\n",
              "      <td>good</td>\n",
              "    </tr>\n",
              "  </tbody>\n",
              "</table>\n",
              "</div>"
            ],
            "text/plain": [
              "     Age   Sex  Job Housing  ... Credit amount Duration    Purpose  Risk\n",
              "203   21  male    2    rent  ...           902       12  education   bad\n",
              "687   30  male    2    free  ...          2862       36        car  good\n",
              "114   35  male    2     own  ...          1680       12   radio/TV  good\n",
              "39    24  male    2     own  ...           458        9   radio/TV  good\n",
              "986   33  male    2     own  ...          6289       42   business  good\n",
              "\n",
              "[5 rows x 10 columns]"
            ]
          },
          "metadata": {},
          "execution_count": 118
        }
      ]
    },
    {
      "cell_type": "code",
      "metadata": {
        "colab": {
          "base_uri": "https://localhost:8080/",
          "height": 203
        },
        "id": "Ad_4poNSBfL5",
        "outputId": "b27d925b-c415-448f-f2b0-713c896965d1"
      },
      "source": [
        "val_df.head()"
      ],
      "execution_count": null,
      "outputs": [
        {
          "output_type": "execute_result",
          "data": {
            "text/html": [
              "<div>\n",
              "<style scoped>\n",
              "    .dataframe tbody tr th:only-of-type {\n",
              "        vertical-align: middle;\n",
              "    }\n",
              "\n",
              "    .dataframe tbody tr th {\n",
              "        vertical-align: top;\n",
              "    }\n",
              "\n",
              "    .dataframe thead th {\n",
              "        text-align: right;\n",
              "    }\n",
              "</style>\n",
              "<table border=\"1\" class=\"dataframe\">\n",
              "  <thead>\n",
              "    <tr style=\"text-align: right;\">\n",
              "      <th></th>\n",
              "      <th>Age</th>\n",
              "      <th>Sex</th>\n",
              "      <th>Job</th>\n",
              "      <th>Housing</th>\n",
              "      <th>Saving accounts</th>\n",
              "      <th>Checking account</th>\n",
              "      <th>Credit amount</th>\n",
              "      <th>Duration</th>\n",
              "      <th>Purpose</th>\n",
              "      <th>Risk</th>\n",
              "    </tr>\n",
              "  </thead>\n",
              "  <tbody>\n",
              "    <tr>\n",
              "      <th>284</th>\n",
              "      <td>37</td>\n",
              "      <td>male</td>\n",
              "      <td>2</td>\n",
              "      <td>own</td>\n",
              "      <td>moderate</td>\n",
              "      <td>moderate</td>\n",
              "      <td>3878</td>\n",
              "      <td>24</td>\n",
              "      <td>car</td>\n",
              "      <td>good</td>\n",
              "    </tr>\n",
              "    <tr>\n",
              "      <th>866</th>\n",
              "      <td>27</td>\n",
              "      <td>female</td>\n",
              "      <td>2</td>\n",
              "      <td>own</td>\n",
              "      <td>little</td>\n",
              "      <td>little</td>\n",
              "      <td>2389</td>\n",
              "      <td>18</td>\n",
              "      <td>radio/TV</td>\n",
              "      <td>good</td>\n",
              "    </tr>\n",
              "    <tr>\n",
              "      <th>143</th>\n",
              "      <td>22</td>\n",
              "      <td>male</td>\n",
              "      <td>2</td>\n",
              "      <td>own</td>\n",
              "      <td>little</td>\n",
              "      <td>little</td>\n",
              "      <td>2462</td>\n",
              "      <td>18</td>\n",
              "      <td>furniture/equipment</td>\n",
              "      <td>bad</td>\n",
              "    </tr>\n",
              "    <tr>\n",
              "      <th>578</th>\n",
              "      <td>27</td>\n",
              "      <td>male</td>\n",
              "      <td>2</td>\n",
              "      <td>own</td>\n",
              "      <td>little</td>\n",
              "      <td>moderate</td>\n",
              "      <td>2820</td>\n",
              "      <td>36</td>\n",
              "      <td>car</td>\n",
              "      <td>bad</td>\n",
              "    </tr>\n",
              "    <tr>\n",
              "      <th>482</th>\n",
              "      <td>57</td>\n",
              "      <td>female</td>\n",
              "      <td>2</td>\n",
              "      <td>rent</td>\n",
              "      <td>rich</td>\n",
              "      <td>little</td>\n",
              "      <td>3622</td>\n",
              "      <td>30</td>\n",
              "      <td>furniture/equipment</td>\n",
              "      <td>good</td>\n",
              "    </tr>\n",
              "  </tbody>\n",
              "</table>\n",
              "</div>"
            ],
            "text/plain": [
              "     Age     Sex  Job  ... Duration              Purpose  Risk\n",
              "284   37    male    2  ...       24                  car  good\n",
              "866   27  female    2  ...       18             radio/TV  good\n",
              "143   22    male    2  ...       18  furniture/equipment   bad\n",
              "578   27    male    2  ...       36                  car   bad\n",
              "482   57  female    2  ...       30  furniture/equipment  good\n",
              "\n",
              "[5 rows x 10 columns]"
            ]
          },
          "metadata": {},
          "execution_count": 119
        }
      ]
    },
    {
      "cell_type": "code",
      "metadata": {
        "colab": {
          "base_uri": "https://localhost:8080/",
          "height": 203
        },
        "id": "AunUapaTBgT5",
        "outputId": "cde2c798-a974-489c-f23b-272051c21841"
      },
      "source": [
        "test_df.head()"
      ],
      "execution_count": null,
      "outputs": [
        {
          "output_type": "execute_result",
          "data": {
            "text/html": [
              "<div>\n",
              "<style scoped>\n",
              "    .dataframe tbody tr th:only-of-type {\n",
              "        vertical-align: middle;\n",
              "    }\n",
              "\n",
              "    .dataframe tbody tr th {\n",
              "        vertical-align: top;\n",
              "    }\n",
              "\n",
              "    .dataframe thead th {\n",
              "        text-align: right;\n",
              "    }\n",
              "</style>\n",
              "<table border=\"1\" class=\"dataframe\">\n",
              "  <thead>\n",
              "    <tr style=\"text-align: right;\">\n",
              "      <th></th>\n",
              "      <th>Age</th>\n",
              "      <th>Sex</th>\n",
              "      <th>Job</th>\n",
              "      <th>Housing</th>\n",
              "      <th>Saving accounts</th>\n",
              "      <th>Checking account</th>\n",
              "      <th>Credit amount</th>\n",
              "      <th>Duration</th>\n",
              "      <th>Purpose</th>\n",
              "      <th>Risk</th>\n",
              "    </tr>\n",
              "  </thead>\n",
              "  <tbody>\n",
              "    <tr>\n",
              "      <th>284</th>\n",
              "      <td>37</td>\n",
              "      <td>male</td>\n",
              "      <td>2</td>\n",
              "      <td>own</td>\n",
              "      <td>moderate</td>\n",
              "      <td>moderate</td>\n",
              "      <td>3878</td>\n",
              "      <td>24</td>\n",
              "      <td>car</td>\n",
              "      <td>good</td>\n",
              "    </tr>\n",
              "    <tr>\n",
              "      <th>866</th>\n",
              "      <td>27</td>\n",
              "      <td>female</td>\n",
              "      <td>2</td>\n",
              "      <td>own</td>\n",
              "      <td>little</td>\n",
              "      <td>little</td>\n",
              "      <td>2389</td>\n",
              "      <td>18</td>\n",
              "      <td>radio/TV</td>\n",
              "      <td>good</td>\n",
              "    </tr>\n",
              "    <tr>\n",
              "      <th>143</th>\n",
              "      <td>22</td>\n",
              "      <td>male</td>\n",
              "      <td>2</td>\n",
              "      <td>own</td>\n",
              "      <td>little</td>\n",
              "      <td>little</td>\n",
              "      <td>2462</td>\n",
              "      <td>18</td>\n",
              "      <td>furniture/equipment</td>\n",
              "      <td>bad</td>\n",
              "    </tr>\n",
              "    <tr>\n",
              "      <th>578</th>\n",
              "      <td>27</td>\n",
              "      <td>male</td>\n",
              "      <td>2</td>\n",
              "      <td>own</td>\n",
              "      <td>little</td>\n",
              "      <td>moderate</td>\n",
              "      <td>2820</td>\n",
              "      <td>36</td>\n",
              "      <td>car</td>\n",
              "      <td>bad</td>\n",
              "    </tr>\n",
              "    <tr>\n",
              "      <th>482</th>\n",
              "      <td>57</td>\n",
              "      <td>female</td>\n",
              "      <td>2</td>\n",
              "      <td>rent</td>\n",
              "      <td>rich</td>\n",
              "      <td>little</td>\n",
              "      <td>3622</td>\n",
              "      <td>30</td>\n",
              "      <td>furniture/equipment</td>\n",
              "      <td>good</td>\n",
              "    </tr>\n",
              "  </tbody>\n",
              "</table>\n",
              "</div>"
            ],
            "text/plain": [
              "     Age     Sex  Job  ... Duration              Purpose  Risk\n",
              "284   37    male    2  ...       24                  car  good\n",
              "866   27  female    2  ...       18             radio/TV  good\n",
              "143   22    male    2  ...       18  furniture/equipment   bad\n",
              "578   27    male    2  ...       36                  car   bad\n",
              "482   57  female    2  ...       30  furniture/equipment  good\n",
              "\n",
              "[5 rows x 10 columns]"
            ]
          },
          "metadata": {},
          "execution_count": 120
        }
      ]
    },
    {
      "cell_type": "markdown",
      "metadata": {
        "id": "o2xAkOAj6a7u"
      },
      "source": [
        "## Identifying input and target column"
      ]
    },
    {
      "cell_type": "code",
      "metadata": {
        "colab": {
          "base_uri": "https://localhost:8080/"
        },
        "id": "k0_H8IgQ6d5V",
        "outputId": "57e98058-6d21-41be-a071-3d734603416d"
      },
      "source": [
        "credit_df.columns"
      ],
      "execution_count": null,
      "outputs": [
        {
          "output_type": "execute_result",
          "data": {
            "text/plain": [
              "Index(['Age', 'Sex', 'Job', 'Housing', 'Saving accounts', 'Checking account',\n",
              "       'Credit amount', 'Duration', 'Purpose', 'Risk'],\n",
              "      dtype='object')"
            ]
          },
          "metadata": {},
          "execution_count": 121
        }
      ]
    },
    {
      "cell_type": "code",
      "metadata": {
        "id": "IujotoRB6faQ"
      },
      "source": [
        "input_col = ['Age','Sex','Job','Housing','Saving accounts','Checking account','Credit amount','Duration','Purpose']\n",
        "target_col = 'Risk'"
      ],
      "execution_count": null,
      "outputs": []
    },
    {
      "cell_type": "code",
      "metadata": {
        "id": "ylQQ-d_P6pRX"
      },
      "source": [
        "train_input = train_df[input_col].copy()\n",
        "train_target = train_df[target_col].copy()"
      ],
      "execution_count": null,
      "outputs": []
    },
    {
      "cell_type": "code",
      "metadata": {
        "id": "YvfrjLVg6wQY"
      },
      "source": [
        "val_input = val_df[input_col].copy()\n",
        "val_target = val_df[target_col].copy()"
      ],
      "execution_count": null,
      "outputs": []
    },
    {
      "cell_type": "code",
      "metadata": {
        "id": "90xFLFR4664m"
      },
      "source": [
        "test_input = test_df[input_col].copy()\n",
        "test_target = test_df[target_col].copy()"
      ],
      "execution_count": null,
      "outputs": []
    },
    {
      "cell_type": "markdown",
      "metadata": {
        "id": "ARshYKk47BiB"
      },
      "source": [
        "Now let's select the numeric and categorical columns"
      ]
    },
    {
      "cell_type": "code",
      "metadata": {
        "colab": {
          "base_uri": "https://localhost:8080/"
        },
        "id": "jECO3XCo7FwP",
        "outputId": "00037c64-30c5-420f-f4e6-0f8f435a0ea4"
      },
      "source": [
        "numeric_col = train_input.select_dtypes(np.number).columns.tolist()\n",
        "cate_col = train_input.select_dtypes('object').columns.tolist()\n",
        "print(numeric_col)\n",
        "print(cate_col)"
      ],
      "execution_count": null,
      "outputs": [
        {
          "output_type": "stream",
          "name": "stdout",
          "text": [
            "['Age', 'Job', 'Credit amount', 'Duration']\n",
            "['Sex', 'Housing', 'Saving accounts', 'Checking account', 'Purpose']\n"
          ]
        }
      ]
    },
    {
      "cell_type": "code",
      "metadata": {
        "colab": {
          "base_uri": "https://localhost:8080/"
        },
        "id": "-hGSW0Bo7THd",
        "outputId": "fce6ca88-9cb8-4d55-9a9b-60409d875fd8"
      },
      "source": [
        "train_input[numeric_col].info()"
      ],
      "execution_count": null,
      "outputs": [
        {
          "output_type": "stream",
          "name": "stdout",
          "text": [
            "<class 'pandas.core.frame.DataFrame'>\n",
            "Int64Index: 218 entries, 203 to 342\n",
            "Data columns (total 4 columns):\n",
            " #   Column         Non-Null Count  Dtype\n",
            "---  ------         --------------  -----\n",
            " 0   Age            218 non-null    int64\n",
            " 1   Job            218 non-null    int64\n",
            " 2   Credit amount  218 non-null    int64\n",
            " 3   Duration       218 non-null    int64\n",
            "dtypes: int64(4)\n",
            "memory usage: 8.5 KB\n"
          ]
        }
      ]
    },
    {
      "cell_type": "code",
      "metadata": {
        "colab": {
          "base_uri": "https://localhost:8080/",
          "height": 295
        },
        "id": "mjfOQvMk7lt9",
        "outputId": "d4dfc110-a87e-43b9-c2f3-bd53146ff5c2"
      },
      "source": [
        "train_input[numeric_col].describe()"
      ],
      "execution_count": null,
      "outputs": [
        {
          "output_type": "execute_result",
          "data": {
            "text/html": [
              "<div>\n",
              "<style scoped>\n",
              "    .dataframe tbody tr th:only-of-type {\n",
              "        vertical-align: middle;\n",
              "    }\n",
              "\n",
              "    .dataframe tbody tr th {\n",
              "        vertical-align: top;\n",
              "    }\n",
              "\n",
              "    .dataframe thead th {\n",
              "        text-align: right;\n",
              "    }\n",
              "</style>\n",
              "<table border=\"1\" class=\"dataframe\">\n",
              "  <thead>\n",
              "    <tr style=\"text-align: right;\">\n",
              "      <th></th>\n",
              "      <th>Age</th>\n",
              "      <th>Job</th>\n",
              "      <th>Credit amount</th>\n",
              "      <th>Duration</th>\n",
              "    </tr>\n",
              "  </thead>\n",
              "  <tbody>\n",
              "    <tr>\n",
              "      <th>count</th>\n",
              "      <td>218.000000</td>\n",
              "      <td>218.0</td>\n",
              "      <td>218.000000</td>\n",
              "      <td>218.000000</td>\n",
              "    </tr>\n",
              "    <tr>\n",
              "      <th>mean</th>\n",
              "      <td>33.220183</td>\n",
              "      <td>2.0</td>\n",
              "      <td>2715.761468</td>\n",
              "      <td>20.321101</td>\n",
              "    </tr>\n",
              "    <tr>\n",
              "      <th>std</th>\n",
              "      <td>10.244349</td>\n",
              "      <td>0.0</td>\n",
              "      <td>1714.106568</td>\n",
              "      <td>11.566184</td>\n",
              "    </tr>\n",
              "    <tr>\n",
              "      <th>min</th>\n",
              "      <td>20.000000</td>\n",
              "      <td>2.0</td>\n",
              "      <td>338.000000</td>\n",
              "      <td>6.000000</td>\n",
              "    </tr>\n",
              "    <tr>\n",
              "      <th>25%</th>\n",
              "      <td>25.000000</td>\n",
              "      <td>2.0</td>\n",
              "      <td>1328.000000</td>\n",
              "      <td>12.000000</td>\n",
              "    </tr>\n",
              "    <tr>\n",
              "      <th>50%</th>\n",
              "      <td>30.000000</td>\n",
              "      <td>2.0</td>\n",
              "      <td>2321.000000</td>\n",
              "      <td>18.000000</td>\n",
              "    </tr>\n",
              "    <tr>\n",
              "      <th>75%</th>\n",
              "      <td>37.750000</td>\n",
              "      <td>2.0</td>\n",
              "      <td>3647.000000</td>\n",
              "      <td>24.000000</td>\n",
              "    </tr>\n",
              "    <tr>\n",
              "      <th>max</th>\n",
              "      <td>63.000000</td>\n",
              "      <td>2.0</td>\n",
              "      <td>7882.000000</td>\n",
              "      <td>48.000000</td>\n",
              "    </tr>\n",
              "  </tbody>\n",
              "</table>\n",
              "</div>"
            ],
            "text/plain": [
              "              Age    Job  Credit amount    Duration\n",
              "count  218.000000  218.0     218.000000  218.000000\n",
              "mean    33.220183    2.0    2715.761468   20.321101\n",
              "std     10.244349    0.0    1714.106568   11.566184\n",
              "min     20.000000    2.0     338.000000    6.000000\n",
              "25%     25.000000    2.0    1328.000000   12.000000\n",
              "50%     30.000000    2.0    2321.000000   18.000000\n",
              "75%     37.750000    2.0    3647.000000   24.000000\n",
              "max     63.000000    2.0    7882.000000   48.000000"
            ]
          },
          "metadata": {},
          "execution_count": 128
        }
      ]
    },
    {
      "cell_type": "markdown",
      "metadata": {
        "id": "rSf_FCjb7pID"
      },
      "source": [
        "## Imputing missing values"
      ]
    },
    {
      "cell_type": "code",
      "metadata": {
        "colab": {
          "base_uri": "https://localhost:8080/"
        },
        "id": "EAX64aR47rfl",
        "outputId": "fe6ef1ba-d075-4911-c8fa-901f34c38c64"
      },
      "source": [
        "train_input[numeric_col].info()"
      ],
      "execution_count": null,
      "outputs": [
        {
          "output_type": "stream",
          "name": "stdout",
          "text": [
            "<class 'pandas.core.frame.DataFrame'>\n",
            "Int64Index: 418 entries, 577 to 185\n",
            "Data columns (total 4 columns):\n",
            " #   Column         Non-Null Count  Dtype\n",
            "---  ------         --------------  -----\n",
            " 0   Age            418 non-null    int64\n",
            " 1   Job            418 non-null    int64\n",
            " 2   Credit amount  418 non-null    int64\n",
            " 3   Duration       418 non-null    int64\n",
            "dtypes: int64(4)\n",
            "memory usage: 16.3 KB\n"
          ]
        }
      ]
    },
    {
      "cell_type": "code",
      "metadata": {
        "colab": {
          "base_uri": "https://localhost:8080/"
        },
        "id": "InyfNWIK7xGd",
        "outputId": "8756e410-9b87-4c05-f6c6-a6be40bea31b"
      },
      "source": [
        "val_input[numeric_col].info()"
      ],
      "execution_count": null,
      "outputs": [
        {
          "output_type": "stream",
          "name": "stdout",
          "text": [
            "<class 'pandas.core.frame.DataFrame'>\n",
            "Int64Index: 140 entries, 281 to 690\n",
            "Data columns (total 4 columns):\n",
            " #   Column         Non-Null Count  Dtype\n",
            "---  ------         --------------  -----\n",
            " 0   Age            140 non-null    int64\n",
            " 1   Job            140 non-null    int64\n",
            " 2   Credit amount  140 non-null    int64\n",
            " 3   Duration       140 non-null    int64\n",
            "dtypes: int64(4)\n",
            "memory usage: 5.5 KB\n"
          ]
        }
      ]
    },
    {
      "cell_type": "code",
      "metadata": {
        "colab": {
          "base_uri": "https://localhost:8080/"
        },
        "id": "rewxZKha71Y6",
        "outputId": "804f6350-c372-4b2f-e960-c78feef33e53"
      },
      "source": [
        "test_input[numeric_col].info()"
      ],
      "execution_count": null,
      "outputs": [
        {
          "output_type": "stream",
          "name": "stdout",
          "text": [
            "<class 'pandas.core.frame.DataFrame'>\n",
            "Int64Index: 112 entries, 281 to 655\n",
            "Data columns (total 4 columns):\n",
            " #   Column         Non-Null Count  Dtype\n",
            "---  ------         --------------  -----\n",
            " 0   Age            112 non-null    int64\n",
            " 1   Job            112 non-null    int64\n",
            " 2   Credit amount  112 non-null    int64\n",
            " 3   Duration       112 non-null    int64\n",
            "dtypes: int64(4)\n",
            "memory usage: 4.4 KB\n"
          ]
        }
      ]
    },
    {
      "cell_type": "markdown",
      "metadata": {
        "id": "l-97stkz74Y7"
      },
      "source": [
        "It seems like there no missing values in the numeric fields for train,validation and test data sets"
      ]
    },
    {
      "cell_type": "code",
      "metadata": {
        "id": "ppY0OQ4w8TZR"
      },
      "source": [
        "train_input = train_input.dropna(subset=cate_col,how='any')\n",
        "val_input = val_input.dropna()\n",
        "test_input = test_input.dropna()"
      ],
      "execution_count": null,
      "outputs": []
    },
    {
      "cell_type": "code",
      "metadata": {
        "colab": {
          "base_uri": "https://localhost:8080/"
        },
        "id": "lwsqwA-I9dNe",
        "outputId": "90b218d6-9e84-4b80-f141-be4b7c17a509"
      },
      "source": [
        "print(train_input.isna().sum())\n",
        "print(val_input.isna().sum())\n",
        "print(test_input.isna().sum())"
      ],
      "execution_count": null,
      "outputs": [
        {
          "output_type": "stream",
          "name": "stdout",
          "text": [
            "Age                 0\n",
            "Sex                 0\n",
            "Job                 0\n",
            "Housing             0\n",
            "Saving accounts     0\n",
            "Checking account    0\n",
            "Credit amount       0\n",
            "Duration            0\n",
            "Purpose             0\n",
            "dtype: int64\n",
            "Age                 0\n",
            "Sex                 0\n",
            "Job                 0\n",
            "Housing             0\n",
            "Saving accounts     0\n",
            "Checking account    0\n",
            "Credit amount       0\n",
            "Duration            0\n",
            "Purpose             0\n",
            "dtype: int64\n",
            "Age                 0\n",
            "Sex                 0\n",
            "Job                 0\n",
            "Housing             0\n",
            "Saving accounts     0\n",
            "Checking account    0\n",
            "Credit amount       0\n",
            "Duration            0\n",
            "Purpose             0\n",
            "dtype: int64\n"
          ]
        }
      ]
    },
    {
      "cell_type": "markdown",
      "metadata": {
        "id": "AHsNTyMY9kZx"
      },
      "source": [
        "Now there are no misisng values in the sets"
      ]
    },
    {
      "cell_type": "markdown",
      "metadata": {
        "id": "I2QVWjiw9pXd"
      },
      "source": [
        "## Scaling numeric values"
      ]
    },
    {
      "cell_type": "code",
      "metadata": {
        "colab": {
          "base_uri": "https://localhost:8080/",
          "height": 295
        },
        "id": "zRWFS1Ld9qzj",
        "outputId": "c5adc809-f29d-46a3-fc8f-5528aa6e2a64"
      },
      "source": [
        "train_input[numeric_col].describe()"
      ],
      "execution_count": null,
      "outputs": [
        {
          "output_type": "execute_result",
          "data": {
            "text/html": [
              "<div>\n",
              "<style scoped>\n",
              "    .dataframe tbody tr th:only-of-type {\n",
              "        vertical-align: middle;\n",
              "    }\n",
              "\n",
              "    .dataframe tbody tr th {\n",
              "        vertical-align: top;\n",
              "    }\n",
              "\n",
              "    .dataframe thead th {\n",
              "        text-align: right;\n",
              "    }\n",
              "</style>\n",
              "<table border=\"1\" class=\"dataframe\">\n",
              "  <thead>\n",
              "    <tr style=\"text-align: right;\">\n",
              "      <th></th>\n",
              "      <th>Age</th>\n",
              "      <th>Job</th>\n",
              "      <th>Credit amount</th>\n",
              "      <th>Duration</th>\n",
              "    </tr>\n",
              "  </thead>\n",
              "  <tbody>\n",
              "    <tr>\n",
              "      <th>count</th>\n",
              "      <td>218.000000</td>\n",
              "      <td>218.0</td>\n",
              "      <td>218.000000</td>\n",
              "      <td>218.000000</td>\n",
              "    </tr>\n",
              "    <tr>\n",
              "      <th>mean</th>\n",
              "      <td>33.220183</td>\n",
              "      <td>2.0</td>\n",
              "      <td>2715.761468</td>\n",
              "      <td>20.321101</td>\n",
              "    </tr>\n",
              "    <tr>\n",
              "      <th>std</th>\n",
              "      <td>10.244349</td>\n",
              "      <td>0.0</td>\n",
              "      <td>1714.106568</td>\n",
              "      <td>11.566184</td>\n",
              "    </tr>\n",
              "    <tr>\n",
              "      <th>min</th>\n",
              "      <td>20.000000</td>\n",
              "      <td>2.0</td>\n",
              "      <td>338.000000</td>\n",
              "      <td>6.000000</td>\n",
              "    </tr>\n",
              "    <tr>\n",
              "      <th>25%</th>\n",
              "      <td>25.000000</td>\n",
              "      <td>2.0</td>\n",
              "      <td>1328.000000</td>\n",
              "      <td>12.000000</td>\n",
              "    </tr>\n",
              "    <tr>\n",
              "      <th>50%</th>\n",
              "      <td>30.000000</td>\n",
              "      <td>2.0</td>\n",
              "      <td>2321.000000</td>\n",
              "      <td>18.000000</td>\n",
              "    </tr>\n",
              "    <tr>\n",
              "      <th>75%</th>\n",
              "      <td>37.750000</td>\n",
              "      <td>2.0</td>\n",
              "      <td>3647.000000</td>\n",
              "      <td>24.000000</td>\n",
              "    </tr>\n",
              "    <tr>\n",
              "      <th>max</th>\n",
              "      <td>63.000000</td>\n",
              "      <td>2.0</td>\n",
              "      <td>7882.000000</td>\n",
              "      <td>48.000000</td>\n",
              "    </tr>\n",
              "  </tbody>\n",
              "</table>\n",
              "</div>"
            ],
            "text/plain": [
              "              Age    Job  Credit amount    Duration\n",
              "count  218.000000  218.0     218.000000  218.000000\n",
              "mean    33.220183    2.0    2715.761468   20.321101\n",
              "std     10.244349    0.0    1714.106568   11.566184\n",
              "min     20.000000    2.0     338.000000    6.000000\n",
              "25%     25.000000    2.0    1328.000000   12.000000\n",
              "50%     30.000000    2.0    2321.000000   18.000000\n",
              "75%     37.750000    2.0    3647.000000   24.000000\n",
              "max     63.000000    2.0    7882.000000   48.000000"
            ]
          },
          "metadata": {},
          "execution_count": 132
        }
      ]
    },
    {
      "cell_type": "code",
      "metadata": {
        "id": "TsFFBU7C9uvH"
      },
      "source": [
        "from sklearn.preprocessing import MinMaxScaler\n",
        "scaler = MinMaxScaler().fit(credit_df[numeric_col])"
      ],
      "execution_count": null,
      "outputs": []
    },
    {
      "cell_type": "code",
      "metadata": {
        "id": "iogxFfjU9522"
      },
      "source": [
        "train_input[numeric_col] = scaler.transform(train_input[numeric_col])\n",
        "val_input[numeric_col] = scaler.transform(val_input[numeric_col])\n",
        "test_input[numeric_col] = scaler.transform(test_input[numeric_col])"
      ],
      "execution_count": null,
      "outputs": []
    },
    {
      "cell_type": "code",
      "metadata": {
        "colab": {
          "base_uri": "https://localhost:8080/",
          "height": 295
        },
        "id": "_4EHCy75-J2n",
        "outputId": "86c6bb92-67e1-46a2-8fe8-e43e20add99b"
      },
      "source": [
        "train_input[numeric_col].describe()"
      ],
      "execution_count": null,
      "outputs": [
        {
          "output_type": "execute_result",
          "data": {
            "text/html": [
              "<div>\n",
              "<style scoped>\n",
              "    .dataframe tbody tr th:only-of-type {\n",
              "        vertical-align: middle;\n",
              "    }\n",
              "\n",
              "    .dataframe tbody tr th {\n",
              "        vertical-align: top;\n",
              "    }\n",
              "\n",
              "    .dataframe thead th {\n",
              "        text-align: right;\n",
              "    }\n",
              "</style>\n",
              "<table border=\"1\" class=\"dataframe\">\n",
              "  <thead>\n",
              "    <tr style=\"text-align: right;\">\n",
              "      <th></th>\n",
              "      <th>Age</th>\n",
              "      <th>Job</th>\n",
              "      <th>Credit amount</th>\n",
              "      <th>Duration</th>\n",
              "    </tr>\n",
              "  </thead>\n",
              "  <tbody>\n",
              "    <tr>\n",
              "      <th>count</th>\n",
              "      <td>218.000000</td>\n",
              "      <td>218.0</td>\n",
              "      <td>218.000000</td>\n",
              "      <td>218.000000</td>\n",
              "    </tr>\n",
              "    <tr>\n",
              "      <th>mean</th>\n",
              "      <td>0.307446</td>\n",
              "      <td>0.0</td>\n",
              "      <td>0.311715</td>\n",
              "      <td>0.340979</td>\n",
              "    </tr>\n",
              "    <tr>\n",
              "      <th>std</th>\n",
              "      <td>0.238241</td>\n",
              "      <td>0.0</td>\n",
              "      <td>0.224712</td>\n",
              "      <td>0.275385</td>\n",
              "    </tr>\n",
              "    <tr>\n",
              "      <th>min</th>\n",
              "      <td>0.000000</td>\n",
              "      <td>0.0</td>\n",
              "      <td>0.000000</td>\n",
              "      <td>0.000000</td>\n",
              "    </tr>\n",
              "    <tr>\n",
              "      <th>25%</th>\n",
              "      <td>0.116279</td>\n",
              "      <td>0.0</td>\n",
              "      <td>0.129785</td>\n",
              "      <td>0.142857</td>\n",
              "    </tr>\n",
              "    <tr>\n",
              "      <th>50%</th>\n",
              "      <td>0.232558</td>\n",
              "      <td>0.0</td>\n",
              "      <td>0.259963</td>\n",
              "      <td>0.285714</td>\n",
              "    </tr>\n",
              "    <tr>\n",
              "      <th>75%</th>\n",
              "      <td>0.412791</td>\n",
              "      <td>0.0</td>\n",
              "      <td>0.433797</td>\n",
              "      <td>0.428571</td>\n",
              "    </tr>\n",
              "    <tr>\n",
              "      <th>max</th>\n",
              "      <td>1.000000</td>\n",
              "      <td>0.0</td>\n",
              "      <td>0.988988</td>\n",
              "      <td>1.000000</td>\n",
              "    </tr>\n",
              "  </tbody>\n",
              "</table>\n",
              "</div>"
            ],
            "text/plain": [
              "              Age    Job  Credit amount    Duration\n",
              "count  218.000000  218.0     218.000000  218.000000\n",
              "mean     0.307446    0.0       0.311715    0.340979\n",
              "std      0.238241    0.0       0.224712    0.275385\n",
              "min      0.000000    0.0       0.000000    0.000000\n",
              "25%      0.116279    0.0       0.129785    0.142857\n",
              "50%      0.232558    0.0       0.259963    0.285714\n",
              "75%      0.412791    0.0       0.433797    0.428571\n",
              "max      1.000000    0.0       0.988988    1.000000"
            ]
          },
          "metadata": {},
          "execution_count": 135
        }
      ]
    },
    {
      "cell_type": "markdown",
      "metadata": {
        "id": "kOJbtbtb-Uqe"
      },
      "source": [
        "## Encoding Categorical columns"
      ]
    },
    {
      "cell_type": "code",
      "metadata": {
        "id": "71PeuOj0-WrY"
      },
      "source": [
        "from sklearn.preprocessing import OneHotEncoder\n",
        "encoder = OneHotEncoder(sparse=False,handle_unknown='ignore').fit(credit_df[cate_col])"
      ],
      "execution_count": null,
      "outputs": []
    },
    {
      "cell_type": "code",
      "metadata": {
        "colab": {
          "base_uri": "https://localhost:8080/"
        },
        "id": "N7tAnMz9-shH",
        "outputId": "18da280e-4202-40c6-91a0-786486845f32"
      },
      "source": [
        "enc_col = encoder.get_feature_names(cate_col).tolist()\n",
        "enc_col"
      ],
      "execution_count": null,
      "outputs": [
        {
          "output_type": "execute_result",
          "data": {
            "text/plain": [
              "['Sex_female',\n",
              " 'Sex_male',\n",
              " 'Housing_free',\n",
              " 'Housing_own',\n",
              " 'Housing_rent',\n",
              " 'Saving accounts_little',\n",
              " 'Saving accounts_moderate',\n",
              " 'Saving accounts_quite rich',\n",
              " 'Saving accounts_rich',\n",
              " 'Checking account_little',\n",
              " 'Checking account_moderate',\n",
              " 'Checking account_rich',\n",
              " 'Purpose_business',\n",
              " 'Purpose_car',\n",
              " 'Purpose_domestic appliances',\n",
              " 'Purpose_education',\n",
              " 'Purpose_furniture/equipment',\n",
              " 'Purpose_radio/TV',\n",
              " 'Purpose_repairs',\n",
              " 'Purpose_vacation/others']"
            ]
          },
          "metadata": {},
          "execution_count": 137
        }
      ]
    },
    {
      "cell_type": "code",
      "metadata": {
        "id": "_KUqDUb0-5j7"
      },
      "source": [
        "train_input[enc_col] = encoder.transform(train_input[cate_col])\n",
        "val_input[enc_col] = encoder.transform(val_input[cate_col])\n",
        "test_input[enc_col] = encoder.transform(test_input[cate_col])"
      ],
      "execution_count": null,
      "outputs": []
    },
    {
      "cell_type": "code",
      "metadata": {
        "colab": {
          "base_uri": "https://localhost:8080/",
          "height": 257
        },
        "id": "7tGO79Xm_Hc3",
        "outputId": "413b278b-a49e-46bc-a5fb-2f09fefb8418"
      },
      "source": [
        "train_input.head()"
      ],
      "execution_count": null,
      "outputs": [
        {
          "output_type": "execute_result",
          "data": {
            "text/html": [
              "<div>\n",
              "<style scoped>\n",
              "    .dataframe tbody tr th:only-of-type {\n",
              "        vertical-align: middle;\n",
              "    }\n",
              "\n",
              "    .dataframe tbody tr th {\n",
              "        vertical-align: top;\n",
              "    }\n",
              "\n",
              "    .dataframe thead th {\n",
              "        text-align: right;\n",
              "    }\n",
              "</style>\n",
              "<table border=\"1\" class=\"dataframe\">\n",
              "  <thead>\n",
              "    <tr style=\"text-align: right;\">\n",
              "      <th></th>\n",
              "      <th>Age</th>\n",
              "      <th>Sex</th>\n",
              "      <th>Job</th>\n",
              "      <th>Housing</th>\n",
              "      <th>Saving accounts</th>\n",
              "      <th>Checking account</th>\n",
              "      <th>Credit amount</th>\n",
              "      <th>Duration</th>\n",
              "      <th>Purpose</th>\n",
              "      <th>Sex_female</th>\n",
              "      <th>Sex_male</th>\n",
              "      <th>Housing_free</th>\n",
              "      <th>Housing_own</th>\n",
              "      <th>Housing_rent</th>\n",
              "      <th>Saving accounts_little</th>\n",
              "      <th>Saving accounts_moderate</th>\n",
              "      <th>Saving accounts_quite rich</th>\n",
              "      <th>Saving accounts_rich</th>\n",
              "      <th>Checking account_little</th>\n",
              "      <th>Checking account_moderate</th>\n",
              "      <th>Checking account_rich</th>\n",
              "      <th>Purpose_business</th>\n",
              "      <th>Purpose_car</th>\n",
              "      <th>Purpose_domestic appliances</th>\n",
              "      <th>Purpose_education</th>\n",
              "      <th>Purpose_furniture/equipment</th>\n",
              "      <th>Purpose_radio/TV</th>\n",
              "      <th>Purpose_repairs</th>\n",
              "      <th>Purpose_vacation/others</th>\n",
              "    </tr>\n",
              "  </thead>\n",
              "  <tbody>\n",
              "    <tr>\n",
              "      <th>203</th>\n",
              "      <td>0.023256</td>\n",
              "      <td>male</td>\n",
              "      <td>0.0</td>\n",
              "      <td>rent</td>\n",
              "      <td>little</td>\n",
              "      <td>little</td>\n",
              "      <td>0.073938</td>\n",
              "      <td>0.142857</td>\n",
              "      <td>education</td>\n",
              "      <td>0.0</td>\n",
              "      <td>1.0</td>\n",
              "      <td>0.0</td>\n",
              "      <td>0.0</td>\n",
              "      <td>1.0</td>\n",
              "      <td>1.0</td>\n",
              "      <td>0.0</td>\n",
              "      <td>0.0</td>\n",
              "      <td>0.0</td>\n",
              "      <td>1.0</td>\n",
              "      <td>0.0</td>\n",
              "      <td>0.0</td>\n",
              "      <td>0.0</td>\n",
              "      <td>0.0</td>\n",
              "      <td>0.0</td>\n",
              "      <td>1.0</td>\n",
              "      <td>0.0</td>\n",
              "      <td>0.0</td>\n",
              "      <td>0.0</td>\n",
              "      <td>0.0</td>\n",
              "    </tr>\n",
              "    <tr>\n",
              "      <th>687</th>\n",
              "      <td>0.232558</td>\n",
              "      <td>male</td>\n",
              "      <td>0.0</td>\n",
              "      <td>free</td>\n",
              "      <td>moderate</td>\n",
              "      <td>moderate</td>\n",
              "      <td>0.330886</td>\n",
              "      <td>0.714286</td>\n",
              "      <td>car</td>\n",
              "      <td>0.0</td>\n",
              "      <td>1.0</td>\n",
              "      <td>1.0</td>\n",
              "      <td>0.0</td>\n",
              "      <td>0.0</td>\n",
              "      <td>0.0</td>\n",
              "      <td>1.0</td>\n",
              "      <td>0.0</td>\n",
              "      <td>0.0</td>\n",
              "      <td>0.0</td>\n",
              "      <td>1.0</td>\n",
              "      <td>0.0</td>\n",
              "      <td>0.0</td>\n",
              "      <td>1.0</td>\n",
              "      <td>0.0</td>\n",
              "      <td>0.0</td>\n",
              "      <td>0.0</td>\n",
              "      <td>0.0</td>\n",
              "      <td>0.0</td>\n",
              "      <td>0.0</td>\n",
              "    </tr>\n",
              "    <tr>\n",
              "      <th>114</th>\n",
              "      <td>0.348837</td>\n",
              "      <td>male</td>\n",
              "      <td>0.0</td>\n",
              "      <td>own</td>\n",
              "      <td>quite rich</td>\n",
              "      <td>little</td>\n",
              "      <td>0.175931</td>\n",
              "      <td>0.142857</td>\n",
              "      <td>radio/TV</td>\n",
              "      <td>0.0</td>\n",
              "      <td>1.0</td>\n",
              "      <td>0.0</td>\n",
              "      <td>1.0</td>\n",
              "      <td>0.0</td>\n",
              "      <td>0.0</td>\n",
              "      <td>0.0</td>\n",
              "      <td>1.0</td>\n",
              "      <td>0.0</td>\n",
              "      <td>1.0</td>\n",
              "      <td>0.0</td>\n",
              "      <td>0.0</td>\n",
              "      <td>0.0</td>\n",
              "      <td>0.0</td>\n",
              "      <td>0.0</td>\n",
              "      <td>0.0</td>\n",
              "      <td>0.0</td>\n",
              "      <td>1.0</td>\n",
              "      <td>0.0</td>\n",
              "      <td>0.0</td>\n",
              "    </tr>\n",
              "    <tr>\n",
              "      <th>39</th>\n",
              "      <td>0.093023</td>\n",
              "      <td>male</td>\n",
              "      <td>0.0</td>\n",
              "      <td>own</td>\n",
              "      <td>little</td>\n",
              "      <td>moderate</td>\n",
              "      <td>0.015732</td>\n",
              "      <td>0.071429</td>\n",
              "      <td>radio/TV</td>\n",
              "      <td>0.0</td>\n",
              "      <td>1.0</td>\n",
              "      <td>0.0</td>\n",
              "      <td>1.0</td>\n",
              "      <td>0.0</td>\n",
              "      <td>1.0</td>\n",
              "      <td>0.0</td>\n",
              "      <td>0.0</td>\n",
              "      <td>0.0</td>\n",
              "      <td>0.0</td>\n",
              "      <td>1.0</td>\n",
              "      <td>0.0</td>\n",
              "      <td>0.0</td>\n",
              "      <td>0.0</td>\n",
              "      <td>0.0</td>\n",
              "      <td>0.0</td>\n",
              "      <td>0.0</td>\n",
              "      <td>1.0</td>\n",
              "      <td>0.0</td>\n",
              "      <td>0.0</td>\n",
              "    </tr>\n",
              "    <tr>\n",
              "      <th>986</th>\n",
              "      <td>0.302326</td>\n",
              "      <td>male</td>\n",
              "      <td>0.0</td>\n",
              "      <td>own</td>\n",
              "      <td>little</td>\n",
              "      <td>rich</td>\n",
              "      <td>0.780152</td>\n",
              "      <td>0.857143</td>\n",
              "      <td>business</td>\n",
              "      <td>0.0</td>\n",
              "      <td>1.0</td>\n",
              "      <td>0.0</td>\n",
              "      <td>1.0</td>\n",
              "      <td>0.0</td>\n",
              "      <td>1.0</td>\n",
              "      <td>0.0</td>\n",
              "      <td>0.0</td>\n",
              "      <td>0.0</td>\n",
              "      <td>0.0</td>\n",
              "      <td>0.0</td>\n",
              "      <td>1.0</td>\n",
              "      <td>1.0</td>\n",
              "      <td>0.0</td>\n",
              "      <td>0.0</td>\n",
              "      <td>0.0</td>\n",
              "      <td>0.0</td>\n",
              "      <td>0.0</td>\n",
              "      <td>0.0</td>\n",
              "      <td>0.0</td>\n",
              "    </tr>\n",
              "  </tbody>\n",
              "</table>\n",
              "</div>"
            ],
            "text/plain": [
              "          Age   Sex  ...  Purpose_repairs Purpose_vacation/others\n",
              "203  0.023256  male  ...              0.0                     0.0\n",
              "687  0.232558  male  ...              0.0                     0.0\n",
              "114  0.348837  male  ...              0.0                     0.0\n",
              "39   0.093023  male  ...              0.0                     0.0\n",
              "986  0.302326  male  ...              0.0                     0.0\n",
              "\n",
              "[5 rows x 29 columns]"
            ]
          },
          "metadata": {},
          "execution_count": 139
        }
      ]
    },
    {
      "cell_type": "code",
      "metadata": {
        "id": "5BsFx9rB_mSd"
      },
      "source": [
        "x_train = train_input[numeric_col+enc_col]\n",
        "x_val = val_input[numeric_col + enc_col]\n",
        "x_test = test_input[numeric_col + enc_col]"
      ],
      "execution_count": null,
      "outputs": []
    },
    {
      "cell_type": "markdown",
      "metadata": {
        "id": "gPdXMZgU_Y_O"
      },
      "source": [
        "## Model"
      ]
    },
    {
      "cell_type": "markdown",
      "metadata": {
        "id": "XhSSKfd3_aMZ"
      },
      "source": [
        "Here we are going to use DecisionTree model"
      ]
    },
    {
      "cell_type": "code",
      "metadata": {
        "id": "sKufpTOY_cwJ"
      },
      "source": [
        "from sklearn.tree import DecisionTreeClassifier\n",
        "model = DecisionTreeClassifier(random_state=42).fit(x_train,train_target)"
      ],
      "execution_count": null,
      "outputs": []
    },
    {
      "cell_type": "code",
      "metadata": {
        "id": "GiOnDrWtBH2L"
      },
      "source": [
        "from sklearn.metrics import mean_squared_error,accuracy_score"
      ],
      "execution_count": null,
      "outputs": []
    },
    {
      "cell_type": "code",
      "metadata": {
        "colab": {
          "base_uri": "https://localhost:8080/"
        },
        "id": "cPFi88CpByrF",
        "outputId": "519225e8-9ecc-4070-ddcc-422e5fe849f4"
      },
      "source": [
        "model.predict(x_train)"
      ],
      "execution_count": null,
      "outputs": [
        {
          "output_type": "execute_result",
          "data": {
            "text/plain": [
              "array(['bad', 'good', 'good', 'good', 'good', 'good', 'good', 'bad',\n",
              "       'good', 'bad', 'bad', 'good', 'good', 'good', 'good', 'bad',\n",
              "       'good', 'good', 'bad', 'good', 'good', 'good', 'good', 'good',\n",
              "       'good', 'bad', 'good', 'bad', 'bad', 'good', 'good', 'bad', 'bad',\n",
              "       'good', 'good', 'bad', 'bad', 'good', 'bad', 'good', 'bad', 'good',\n",
              "       'bad', 'good', 'good', 'good', 'bad', 'good', 'bad', 'bad', 'bad',\n",
              "       'bad', 'good', 'bad', 'bad', 'good', 'bad', 'good', 'bad', 'good',\n",
              "       'bad', 'good', 'bad', 'bad', 'bad', 'bad', 'good', 'bad', 'good',\n",
              "       'bad', 'bad', 'good', 'good', 'bad', 'good', 'good', 'good',\n",
              "       'good', 'good', 'bad', 'good', 'bad', 'bad', 'good', 'good',\n",
              "       'good', 'good', 'good', 'bad', 'bad', 'good', 'good', 'good',\n",
              "       'bad', 'good', 'good', 'good', 'bad', 'bad', 'good', 'good',\n",
              "       'good', 'good', 'bad', 'bad', 'bad', 'good', 'good', 'good',\n",
              "       'good', 'good', 'bad', 'good', 'good', 'bad', 'bad', 'good', 'bad',\n",
              "       'bad', 'bad', 'good', 'bad', 'bad', 'good', 'bad', 'bad', 'good',\n",
              "       'bad', 'bad', 'bad', 'good', 'good', 'bad', 'good', 'good', 'bad',\n",
              "       'good', 'good', 'bad', 'bad', 'bad', 'good', 'good', 'good', 'bad',\n",
              "       'good', 'bad', 'bad', 'good', 'bad', 'bad', 'bad', 'good', 'bad',\n",
              "       'good', 'good', 'bad', 'bad', 'bad', 'good', 'good', 'good', 'bad',\n",
              "       'good', 'good', 'good', 'good', 'good', 'good', 'bad', 'good',\n",
              "       'good', 'bad', 'bad', 'bad', 'good', 'bad', 'bad', 'good', 'good',\n",
              "       'good', 'good', 'good', 'good', 'good', 'bad', 'good', 'good',\n",
              "       'good', 'bad', 'bad', 'good', 'bad', 'good', 'bad', 'bad', 'good',\n",
              "       'good', 'good', 'bad', 'good', 'good', 'bad', 'bad', 'bad', 'good',\n",
              "       'bad', 'bad', 'bad', 'bad', 'good', 'good', 'good', 'good', 'good',\n",
              "       'bad', 'bad', 'good'], dtype=object)"
            ]
          },
          "metadata": {},
          "execution_count": 143
        }
      ]
    },
    {
      "cell_type": "code",
      "metadata": {
        "colab": {
          "base_uri": "https://localhost:8080/"
        },
        "id": "WtY-SohtB2dF",
        "outputId": "fd47fb28-2f15-483a-aba7-38751f541215"
      },
      "source": [
        "accuracy_score(model.predict(x_train),train_target)"
      ],
      "execution_count": null,
      "outputs": [
        {
          "output_type": "execute_result",
          "data": {
            "text/plain": [
              "1.0"
            ]
          },
          "metadata": {},
          "execution_count": 146
        }
      ]
    },
    {
      "cell_type": "markdown",
      "metadata": {
        "id": "5LlhEDX7CDsv"
      },
      "source": [
        "It seems like the accuracy score is 1 which is pretty good. But we cant solely rely on it. So let's check for validation  "
      ]
    },
    {
      "cell_type": "code",
      "metadata": {
        "colab": {
          "base_uri": "https://localhost:8080/"
        },
        "id": "0nIhFYemCNLz",
        "outputId": "412ab52f-d84f-40a1-d1d3-0104b23b8412"
      },
      "source": [
        "accuracy_score(model.predict(x_val),val_target)"
      ],
      "execution_count": null,
      "outputs": [
        {
          "output_type": "execute_result",
          "data": {
            "text/plain": [
              "0.6301369863013698"
            ]
          },
          "metadata": {},
          "execution_count": 148
        }
      ]
    },
    {
      "cell_type": "markdown",
      "metadata": {
        "id": "Q_1ahkCFCReI"
      },
      "source": [
        "We can see that the score is 63% "
      ]
    },
    {
      "cell_type": "markdown",
      "metadata": {
        "id": "uNjUFU4OCV02"
      },
      "source": [
        "Now let's visualize how the model has done the prediction"
      ]
    },
    {
      "cell_type": "markdown",
      "metadata": {
        "id": "1W9mp0oUCay4"
      },
      "source": [
        "## Visualization"
      ]
    },
    {
      "cell_type": "code",
      "metadata": {
        "id": "dqsx5vDzCcaD"
      },
      "source": [
        "from sklearn.tree import plot_tree"
      ],
      "execution_count": null,
      "outputs": []
    },
    {
      "cell_type": "code",
      "metadata": {
        "colab": {
          "base_uri": "https://localhost:8080/",
          "height": 677
        },
        "id": "PqqNCuhgCgSc",
        "outputId": "bd4bbcdd-617e-485a-f1ea-e6dd29faf5b3"
      },
      "source": [
        "plt.figure(figsize=(80,20))\n",
        "plot_tree(model,feature_names=x_train.columns,max_depth=3,filled=True)"
      ],
      "execution_count": null,
      "outputs": [
        {
          "output_type": "execute_result",
          "data": {
            "text/plain": [
              "[Text(1953.0, 978.48, 'Checking account_little <= 0.5\\ngini = 0.493\\nsamples = 218\\nvalue = [96, 122]'),\n",
              " Text(1116.0, 761.0400000000001, 'Duration <= 0.964\\ngini = 0.429\\nsamples = 106\\nvalue = [33, 73]'),\n",
              " Text(892.8, 543.6, 'Credit amount <= 0.126\\ngini = 0.407\\nsamples = 102\\nvalue = [29, 73]'),\n",
              " Text(446.4, 326.1600000000001, 'Purpose_radio/TV <= 0.5\\ngini = 0.497\\nsamples = 26\\nvalue = [12, 14]'),\n",
              " Text(223.2, 108.72000000000003, '\\n  (...)  \\n'),\n",
              " Text(669.5999999999999, 108.72000000000003, '\\n  (...)  \\n'),\n",
              " Text(1339.1999999999998, 326.1600000000001, 'Age <= 0.221\\ngini = 0.347\\nsamples = 76\\nvalue = [17, 59]'),\n",
              " Text(1116.0, 108.72000000000003, '\\n  (...)  \\n'),\n",
              " Text(1562.3999999999999, 108.72000000000003, '\\n  (...)  \\n'),\n",
              " Text(1339.1999999999998, 543.6, 'gini = 0.0\\nsamples = 4\\nvalue = [4, 0]'),\n",
              " Text(2790.0, 761.0400000000001, 'Duration <= 0.131\\ngini = 0.492\\nsamples = 112\\nvalue = [63, 49]'),\n",
              " Text(2008.8, 543.6, 'Age <= 0.093\\ngini = 0.278\\nsamples = 18\\nvalue = [3, 15]'),\n",
              " Text(1785.6, 326.1600000000001, 'gini = 0.0\\nsamples = 2\\nvalue = [2, 0]'),\n",
              " Text(2232.0, 326.1600000000001, 'Housing_free <= 0.5\\ngini = 0.117\\nsamples = 16\\nvalue = [1, 15]'),\n",
              " Text(2008.8, 108.72000000000003, '\\n  (...)  \\n'),\n",
              " Text(2455.2, 108.72000000000003, '\\n  (...)  \\n'),\n",
              " Text(3571.2, 543.6, 'Credit amount <= 0.138\\ngini = 0.462\\nsamples = 94\\nvalue = [60, 34]'),\n",
              " Text(3124.7999999999997, 326.1600000000001, 'Credit amount <= 0.044\\ngini = 0.208\\nsamples = 17\\nvalue = [15, 2]'),\n",
              " Text(2901.6, 108.72000000000003, '\\n  (...)  \\n'),\n",
              " Text(3348.0, 108.72000000000003, '\\n  (...)  \\n'),\n",
              " Text(4017.6, 326.1600000000001, 'Credit amount <= 0.189\\ngini = 0.486\\nsamples = 77\\nvalue = [45, 32]'),\n",
              " Text(3794.3999999999996, 108.72000000000003, '\\n  (...)  \\n'),\n",
              " Text(4240.8, 108.72000000000003, '\\n  (...)  \\n')]"
            ]
          },
          "metadata": {},
          "execution_count": 150
        },
        {
          "output_type": "display_data",
          "data": {
            "image/png": "[encoded data removed]",
            "text/plain": [
              "<Figure size 5760x1440 with 1 Axes>"
            ]
          },
          "metadata": {
            "needs_background": "light"
          }
        }
      ]
    },
    {
      "cell_type": "markdown",
      "metadata": {
        "id": "5-sAT-62CuVH"
      },
      "source": [
        "So based on the gini index the model predicts the target"
      ]
    },
    {
      "cell_type": "code",
      "metadata": {
        "colab": {
          "base_uri": "https://localhost:8080/"
        },
        "id": "3iMFPBSUC1tT",
        "outputId": "3eee59d2-6a8e-4603-f5e1-978d46ca9709"
      },
      "source": [
        "model.tree_.max_depth"
      ],
      "execution_count": null,
      "outputs": [
        {
          "output_type": "execute_result",
          "data": {
            "text/plain": [
              "17"
            ]
          },
          "metadata": {},
          "execution_count": 151
        }
      ]
    },
    {
      "cell_type": "markdown",
      "metadata": {
        "id": "ykaCkMy7C57l"
      },
      "source": [
        "It seems like our model has a depth of 17"
      ]
    },
    {
      "cell_type": "markdown",
      "metadata": {
        "id": "3XTWOCvIDDRX"
      },
      "source": [
        "## Feature importance"
      ]
    },
    {
      "cell_type": "code",
      "metadata": {
        "id": "rreXUxKwDEh-"
      },
      "source": [
        "importance_df = pd.DataFrame({\n",
        "    'Feature' : numeric_col+enc_col,\n",
        "    'Importance' : model.feature_importances_\n",
        "}).sort_values('Importance',ascending=False)"
      ],
      "execution_count": null,
      "outputs": []
    },
    {
      "cell_type": "code",
      "metadata": {
        "colab": {
          "base_uri": "https://localhost:8080/",
          "height": 203
        },
        "id": "_J8Yc0HjDUiG",
        "outputId": "e78cb6aa-85ca-4727-dfcc-c5140737f35a"
      },
      "source": [
        "importance_df.head(5)"
      ],
      "execution_count": null,
      "outputs": [
        {
          "output_type": "execute_result",
          "data": {
            "text/html": [
              "<div>\n",
              "<style scoped>\n",
              "    .dataframe tbody tr th:only-of-type {\n",
              "        vertical-align: middle;\n",
              "    }\n",
              "\n",
              "    .dataframe tbody tr th {\n",
              "        vertical-align: top;\n",
              "    }\n",
              "\n",
              "    .dataframe thead th {\n",
              "        text-align: right;\n",
              "    }\n",
              "</style>\n",
              "<table border=\"1\" class=\"dataframe\">\n",
              "  <thead>\n",
              "    <tr style=\"text-align: right;\">\n",
              "      <th></th>\n",
              "      <th>Feature</th>\n",
              "      <th>Importance</th>\n",
              "    </tr>\n",
              "  </thead>\n",
              "  <tbody>\n",
              "    <tr>\n",
              "      <th>0</th>\n",
              "      <td>Age</td>\n",
              "      <td>0.340582</td>\n",
              "    </tr>\n",
              "    <tr>\n",
              "      <th>2</th>\n",
              "      <td>Credit amount</td>\n",
              "      <td>0.198286</td>\n",
              "    </tr>\n",
              "    <tr>\n",
              "      <th>3</th>\n",
              "      <td>Duration</td>\n",
              "      <td>0.187702</td>\n",
              "    </tr>\n",
              "    <tr>\n",
              "      <th>13</th>\n",
              "      <td>Checking account_little</td>\n",
              "      <td>0.063953</td>\n",
              "    </tr>\n",
              "    <tr>\n",
              "      <th>21</th>\n",
              "      <td>Purpose_radio/TV</td>\n",
              "      <td>0.056989</td>\n",
              "    </tr>\n",
              "  </tbody>\n",
              "</table>\n",
              "</div>"
            ],
            "text/plain": [
              "                    Feature  Importance\n",
              "0                       Age    0.340582\n",
              "2             Credit amount    0.198286\n",
              "3                  Duration    0.187702\n",
              "13  Checking account_little    0.063953\n",
              "21         Purpose_radio/TV    0.056989"
            ]
          },
          "metadata": {},
          "execution_count": 154
        }
      ]
    },
    {
      "cell_type": "markdown",
      "metadata": {
        "id": "BFov-BnZDZ5u"
      },
      "source": [
        "Let's visualize the importance as a barplot"
      ]
    },
    {
      "cell_type": "code",
      "metadata": {
        "colab": {
          "base_uri": "https://localhost:8080/",
          "height": 638
        },
        "id": "C3hX5spNDXVW",
        "outputId": "e1ab141c-2ad6-4014-e7f5-a0f03d6eb6b6"
      },
      "source": [
        "plt.title('Feature importance')\n",
        "sns.barplot(data=importance_df.head(5),x='Importance',y='Feature')"
      ],
      "execution_count": null,
      "outputs": [
        {
          "output_type": "execute_result",
          "data": {
            "text/plain": [
              "<matplotlib.axes._subplots.AxesSubplot at 0x7fe5df6b2cd0>"
            ]
          },
          "metadata": {},
          "execution_count": 157
        },
        {
          "output_type": "display_data",
          "data": {
            "image/png": "[encoded data removed]",
            "text/plain": [
              "<Figure size 720x720 with 1 Axes>"
            ]
          },
          "metadata": {
            "needs_background": "light"
          }
        }
      ]
    },
    {
      "cell_type": "markdown",
      "metadata": {
        "id": "yIOPBfdhDpCr"
      },
      "source": [
        "## Hyperparameter Tuning and Overfitting"
      ]
    },
    {
      "cell_type": "markdown",
      "metadata": {
        "id": "Z-3QzmpKDtEg"
      },
      "source": [
        "`max_depth`"
      ]
    },
    {
      "cell_type": "code",
      "metadata": {
        "colab": {
          "base_uri": "https://localhost:8080/"
        },
        "id": "463KRCceDrx1",
        "outputId": "95b51ed2-eefc-4d25-9c2a-e25562fae94d"
      },
      "source": [
        "model = DecisionTreeClassifier(max_depth=3,random_state=42).fit(x_train,train_target)\n",
        "model.score(x_train,train_target)"
      ],
      "execution_count": null,
      "outputs": [
        {
          "output_type": "execute_result",
          "data": {
            "text/plain": [
              "0.7064220183486238"
            ]
          },
          "metadata": {},
          "execution_count": 158
        }
      ]
    },
    {
      "cell_type": "markdown",
      "metadata": {
        "id": "i6S54U5aD-dH"
      },
      "source": [
        "It seems like the score is 70%.Let's tune it"
      ]
    },
    {
      "cell_type": "code",
      "metadata": {
        "colab": {
          "base_uri": "https://localhost:8080/"
        },
        "id": "t7bawm3wEBhY",
        "outputId": "721a854b-6c86-42d7-8108-93434831594c"
      },
      "source": [
        "model = DecisionTreeClassifier(max_depth=5,random_state=42).fit(x_train,train_target)\n",
        "model.score(x_train,train_target)"
      ],
      "execution_count": null,
      "outputs": [
        {
          "output_type": "execute_result",
          "data": {
            "text/plain": [
              "0.8119266055045872"
            ]
          },
          "metadata": {},
          "execution_count": 159
        }
      ]
    },
    {
      "cell_type": "code",
      "metadata": {
        "colab": {
          "base_uri": "https://localhost:8080/"
        },
        "id": "PiV6dziVEHD6",
        "outputId": "cd35de49-f01b-461f-f2b6-c7fc27c2ad36"
      },
      "source": [
        "model = DecisionTreeClassifier(max_depth=10,random_state=42).fit(x_train,train_target)\n",
        "model.score(x_train,train_target)"
      ],
      "execution_count": null,
      "outputs": [
        {
          "output_type": "execute_result",
          "data": {
            "text/plain": [
              "0.944954128440367"
            ]
          },
          "metadata": {},
          "execution_count": 160
        }
      ]
    },
    {
      "cell_type": "code",
      "metadata": {
        "colab": {
          "base_uri": "https://localhost:8080/"
        },
        "id": "MQw94cwHEIO1",
        "outputId": "5e84aadf-f83b-49c8-8c40-3d7eace912f7"
      },
      "source": [
        "model = DecisionTreeClassifier(max_depth=10,random_state=42).fit(x_train,train_target)\n",
        "model.score(x_train,train_target)"
      ],
      "execution_count": null,
      "outputs": [
        {
          "output_type": "execute_result",
          "data": {
            "text/plain": [
              "0.944954128440367"
            ]
          },
          "metadata": {},
          "execution_count": 161
        }
      ]
    },
    {
      "cell_type": "code",
      "metadata": {
        "colab": {
          "base_uri": "https://localhost:8080/"
        },
        "id": "VtWNbb0-EKSR",
        "outputId": "ae65010e-47f5-4be6-a575-f4d5f2b09e72"
      },
      "source": [
        "model = DecisionTreeClassifier(max_depth=15,random_state=42).fit(x_train,train_target)\n",
        "model.score(x_train,train_target)"
      ],
      "execution_count": null,
      "outputs": [
        {
          "output_type": "execute_result",
          "data": {
            "text/plain": [
              "0.9954128440366973"
            ]
          },
          "metadata": {},
          "execution_count": 162
        }
      ]
    },
    {
      "cell_type": "code",
      "metadata": {
        "colab": {
          "base_uri": "https://localhost:8080/"
        },
        "id": "P0um-sDZEMh-",
        "outputId": "db83a86d-bafb-4fa3-ef9d-8814b145fb5d"
      },
      "source": [
        "model = DecisionTreeClassifier(max_depth=20,random_state=42).fit(x_train,train_target)\n",
        "model.score(x_train,train_target)"
      ],
      "execution_count": null,
      "outputs": [
        {
          "output_type": "execute_result",
          "data": {
            "text/plain": [
              "1.0"
            ]
          },
          "metadata": {},
          "execution_count": 163
        }
      ]
    },
    {
      "cell_type": "code",
      "metadata": {
        "id": "epJdlZgyET4M"
      },
      "source": [
        "def max_depth_error(md):\n",
        "    model = DecisionTreeClassifier(max_depth=md, random_state=42)\n",
        "    model.fit(x_train, train_target)\n",
        "    train_acc = 1 - model.score(x_train, train_target)\n",
        "    val_acc = 1 - model.score(x_val, val_target)\n",
        "    return {'Max Depth': md, 'Training Error': train_acc, 'Validation Error': val_acc}"
      ],
      "execution_count": null,
      "outputs": []
    },
    {
      "cell_type": "code",
      "metadata": {
        "colab": {
          "base_uri": "https://localhost:8080/",
          "height": 665
        },
        "id": "5I1Fe_ydEUgz",
        "outputId": "40194519-8790-44a7-81c3-a2cc00111272"
      },
      "source": [
        "errors_df = pd.DataFrame([max_depth_error(md) for md in range(1,21)])\n",
        "errors_df"
      ],
      "execution_count": null,
      "outputs": [
        {
          "output_type": "execute_result",
          "data": {
            "text/html": [
              "<div>\n",
              "<style scoped>\n",
              "    .dataframe tbody tr th:only-of-type {\n",
              "        vertical-align: middle;\n",
              "    }\n",
              "\n",
              "    .dataframe tbody tr th {\n",
              "        vertical-align: top;\n",
              "    }\n",
              "\n",
              "    .dataframe thead th {\n",
              "        text-align: right;\n",
              "    }\n",
              "</style>\n",
              "<table border=\"1\" class=\"dataframe\">\n",
              "  <thead>\n",
              "    <tr style=\"text-align: right;\">\n",
              "      <th></th>\n",
              "      <th>Max Depth</th>\n",
              "      <th>Training Error</th>\n",
              "      <th>Validation Error</th>\n",
              "    </tr>\n",
              "  </thead>\n",
              "  <tbody>\n",
              "    <tr>\n",
              "      <th>0</th>\n",
              "      <td>1</td>\n",
              "      <td>0.376147</td>\n",
              "      <td>0.438356</td>\n",
              "    </tr>\n",
              "    <tr>\n",
              "      <th>1</th>\n",
              "      <td>2</td>\n",
              "      <td>0.302752</td>\n",
              "      <td>0.438356</td>\n",
              "    </tr>\n",
              "    <tr>\n",
              "      <th>2</th>\n",
              "      <td>3</td>\n",
              "      <td>0.293578</td>\n",
              "      <td>0.438356</td>\n",
              "    </tr>\n",
              "    <tr>\n",
              "      <th>3</th>\n",
              "      <td>4</td>\n",
              "      <td>0.229358</td>\n",
              "      <td>0.397260</td>\n",
              "    </tr>\n",
              "    <tr>\n",
              "      <th>4</th>\n",
              "      <td>5</td>\n",
              "      <td>0.188073</td>\n",
              "      <td>0.397260</td>\n",
              "    </tr>\n",
              "    <tr>\n",
              "      <th>5</th>\n",
              "      <td>6</td>\n",
              "      <td>0.146789</td>\n",
              "      <td>0.356164</td>\n",
              "    </tr>\n",
              "    <tr>\n",
              "      <th>6</th>\n",
              "      <td>7</td>\n",
              "      <td>0.133028</td>\n",
              "      <td>0.369863</td>\n",
              "    </tr>\n",
              "    <tr>\n",
              "      <th>7</th>\n",
              "      <td>8</td>\n",
              "      <td>0.105505</td>\n",
              "      <td>0.315068</td>\n",
              "    </tr>\n",
              "    <tr>\n",
              "      <th>8</th>\n",
              "      <td>9</td>\n",
              "      <td>0.082569</td>\n",
              "      <td>0.356164</td>\n",
              "    </tr>\n",
              "    <tr>\n",
              "      <th>9</th>\n",
              "      <td>10</td>\n",
              "      <td>0.055046</td>\n",
              "      <td>0.369863</td>\n",
              "    </tr>\n",
              "    <tr>\n",
              "      <th>10</th>\n",
              "      <td>11</td>\n",
              "      <td>0.027523</td>\n",
              "      <td>0.356164</td>\n",
              "    </tr>\n",
              "    <tr>\n",
              "      <th>11</th>\n",
              "      <td>12</td>\n",
              "      <td>0.022936</td>\n",
              "      <td>0.356164</td>\n",
              "    </tr>\n",
              "    <tr>\n",
              "      <th>12</th>\n",
              "      <td>13</td>\n",
              "      <td>0.018349</td>\n",
              "      <td>0.356164</td>\n",
              "    </tr>\n",
              "    <tr>\n",
              "      <th>13</th>\n",
              "      <td>14</td>\n",
              "      <td>0.013761</td>\n",
              "      <td>0.369863</td>\n",
              "    </tr>\n",
              "    <tr>\n",
              "      <th>14</th>\n",
              "      <td>15</td>\n",
              "      <td>0.004587</td>\n",
              "      <td>0.369863</td>\n",
              "    </tr>\n",
              "    <tr>\n",
              "      <th>15</th>\n",
              "      <td>16</td>\n",
              "      <td>0.004587</td>\n",
              "      <td>0.369863</td>\n",
              "    </tr>\n",
              "    <tr>\n",
              "      <th>16</th>\n",
              "      <td>17</td>\n",
              "      <td>0.000000</td>\n",
              "      <td>0.369863</td>\n",
              "    </tr>\n",
              "    <tr>\n",
              "      <th>17</th>\n",
              "      <td>18</td>\n",
              "      <td>0.000000</td>\n",
              "      <td>0.369863</td>\n",
              "    </tr>\n",
              "    <tr>\n",
              "      <th>18</th>\n",
              "      <td>19</td>\n",
              "      <td>0.000000</td>\n",
              "      <td>0.369863</td>\n",
              "    </tr>\n",
              "    <tr>\n",
              "      <th>19</th>\n",
              "      <td>20</td>\n",
              "      <td>0.000000</td>\n",
              "      <td>0.369863</td>\n",
              "    </tr>\n",
              "  </tbody>\n",
              "</table>\n",
              "</div>"
            ],
            "text/plain": [
              "    Max Depth  Training Error  Validation Error\n",
              "0           1        0.376147          0.438356\n",
              "1           2        0.302752          0.438356\n",
              "2           3        0.293578          0.438356\n",
              "3           4        0.229358          0.397260\n",
              "4           5        0.188073          0.397260\n",
              "5           6        0.146789          0.356164\n",
              "6           7        0.133028          0.369863\n",
              "7           8        0.105505          0.315068\n",
              "8           9        0.082569          0.356164\n",
              "9          10        0.055046          0.369863\n",
              "10         11        0.027523          0.356164\n",
              "11         12        0.022936          0.356164\n",
              "12         13        0.018349          0.356164\n",
              "13         14        0.013761          0.369863\n",
              "14         15        0.004587          0.369863\n",
              "15         16        0.004587          0.369863\n",
              "16         17        0.000000          0.369863\n",
              "17         18        0.000000          0.369863\n",
              "18         19        0.000000          0.369863\n",
              "19         20        0.000000          0.369863"
            ]
          },
          "metadata": {},
          "execution_count": 168
        }
      ]
    },
    {
      "cell_type": "code",
      "metadata": {
        "colab": {
          "base_uri": "https://localhost:8080/",
          "height": 638
        },
        "id": "hKRqs5WqEiev",
        "outputId": "1205e24d-4c31-4c44-e57d-cee595e76af8"
      },
      "source": [
        "plt.figure()\n",
        "plt.plot(errors_df['Max Depth'], errors_df['Training Error'])\n",
        "plt.plot(errors_df['Max Depth'], errors_df['Validation Error'])\n",
        "plt.title('Training vs. Validation Error')\n",
        "plt.xticks(range(0,21, 2))\n",
        "plt.xlabel('Max. Depth')\n",
        "plt.ylabel('Prediction Error (1 - Accuracy)')\n",
        "plt.legend(['Training', 'Validation'])"
      ],
      "execution_count": null,
      "outputs": [
        {
          "output_type": "execute_result",
          "data": {
            "text/plain": [
              "<matplotlib.legend.Legend at 0x7fe5df9f3cd0>"
            ]
          },
          "metadata": {},
          "execution_count": 169
        },
        {
          "output_type": "display_data",
          "data": {
            "image/png": "[encoded data removed]",
            "text/plain": [
              "<Figure size 720x720 with 1 Axes>"
            ]
          },
          "metadata": {
            "needs_background": "light"
          }
        }
      ]
    },
    {
      "cell_type": "code",
      "metadata": {
        "colab": {
          "base_uri": "https://localhost:8080/"
        },
        "id": "yfmSvsYlEvJ7",
        "outputId": "665aaf39-8bad-48cd-d0bc-a6d28eb1098c"
      },
      "source": [
        "model = DecisionTreeClassifier(max_depth=20,random_state=42).fit(x_train,train_target)\n",
        "model.score(x_train,train_target)"
      ],
      "execution_count": null,
      "outputs": [
        {
          "output_type": "execute_result",
          "data": {
            "text/plain": [
              "1.0"
            ]
          },
          "metadata": {},
          "execution_count": 209
        }
      ]
    },
    {
      "cell_type": "code",
      "metadata": {
        "colab": {
          "base_uri": "https://localhost:8080/"
        },
        "id": "OeOaDGd0G5au",
        "outputId": "58b3b09e-3e48-4568-fa7c-7a0386068ac7"
      },
      "source": [
        "model.score(x_val,val_target)"
      ],
      "execution_count": null,
      "outputs": [
        {
          "output_type": "execute_result",
          "data": {
            "text/plain": [
              "0.6301369863013698"
            ]
          },
          "metadata": {},
          "execution_count": 210
        }
      ]
    },
    {
      "cell_type": "markdown",
      "metadata": {
        "id": "ZfAmnBXyE4tn"
      },
      "source": [
        "`max_leaf_nodes`"
      ]
    },
    {
      "cell_type": "code",
      "metadata": {
        "colab": {
          "base_uri": "https://localhost:8080/"
        },
        "id": "htCgkC5rE7T9",
        "outputId": "669a6b6b-51c7-470c-ac44-5a2d2dc866d4"
      },
      "source": [
        "model = DecisionTreeClassifier(max_leaf_nodes=70,random_state=42).fit(x_train,train_target)\n",
        "model.score(x_train,train_target)"
      ],
      "execution_count": null,
      "outputs": [
        {
          "output_type": "execute_result",
          "data": {
            "text/plain": [
              "1.0"
            ]
          },
          "metadata": {},
          "execution_count": 205
        }
      ]
    },
    {
      "cell_type": "code",
      "metadata": {
        "colab": {
          "base_uri": "https://localhost:8080/"
        },
        "id": "DI4KGL-4FEj6",
        "outputId": "4ab39623-52e8-4d03-afc8-b88a2f4f4a61"
      },
      "source": [
        "model.score(x_val,val_target)"
      ],
      "execution_count": null,
      "outputs": [
        {
          "output_type": "execute_result",
          "data": {
            "text/plain": [
              "0.6575342465753424"
            ]
          },
          "metadata": {},
          "execution_count": 206
        }
      ]
    },
    {
      "cell_type": "code",
      "metadata": {
        "id": "8IqbMWiBFUW8"
      },
      "source": [
        "def max_leaf_error(md):\n",
        "    model = DecisionTreeClassifier(max_leaf_nodes=md, random_state=42)\n",
        "    model.fit(x_train, train_target)\n",
        "    train_acc = 1 - model.score(x_train, train_target)\n",
        "    val_acc = 1 - model.score(x_val, val_target)\n",
        "    return {'Max leaf nodes': md, 'Training Error': train_acc, 'Validation Error': val_acc}"
      ],
      "execution_count": null,
      "outputs": []
    },
    {
      "cell_type": "code",
      "metadata": {
        "colab": {
          "base_uri": "https://localhost:8080/",
          "height": 638
        },
        "id": "7zjMN3HCFY0a",
        "outputId": "e4f6ad8d-f296-43d1-d643-1ee5414745e2"
      },
      "source": [
        "errors_df = pd.DataFrame([max_leaf_error(md) for md in range(2,100,10)])\n",
        "plt.figure()\n",
        "plt.plot(errors_df['Max leaf nodes'], errors_df['Training Error'])\n",
        "plt.plot(errors_df['Max leaf nodes'], errors_df['Validation Error'])\n",
        "plt.title('Training vs. Validation Error')\n",
        "plt.xticks(range(0,21, 2))\n",
        "plt.xlabel('Max leaf nodes')\n",
        "plt.ylabel('Prediction Error (1 - Accuracy)')\n",
        "plt.legend(['Training', 'Validation'])"
      ],
      "execution_count": null,
      "outputs": [
        {
          "output_type": "execute_result",
          "data": {
            "text/plain": [
              "<matplotlib.legend.Legend at 0x7fe5df6b2610>"
            ]
          },
          "metadata": {},
          "execution_count": 194
        },
        {
          "output_type": "display_data",
          "data": {
            "image/png": "[encoded data removed]",
            "text/plain": [
              "<Figure size 720x720 with 1 Axes>"
            ]
          },
          "metadata": {
            "needs_background": "light"
          }
        }
      ]
    },
    {
      "cell_type": "code",
      "metadata": {
        "colab": {
          "base_uri": "https://localhost:8080/"
        },
        "id": "EWPpHoQEGhBM",
        "outputId": "f1655488-f9f6-459f-cb45-81f55e66f14d"
      },
      "source": [
        "model = DecisionTreeClassifier(max_depth=20,max_leaf_nodes=70,random_state=42).fit(x_train,train_target)\n",
        "model.score(x_train,train_target)"
      ],
      "execution_count": null,
      "outputs": [
        {
          "output_type": "execute_result",
          "data": {
            "text/plain": [
              "1.0"
            ]
          },
          "metadata": {},
          "execution_count": 212
        }
      ]
    },
    {
      "cell_type": "code",
      "metadata": {
        "colab": {
          "base_uri": "https://localhost:8080/"
        },
        "id": "CWG-vtJVHKzQ",
        "outputId": "604c05a1-9472-48e8-aae7-0548bd43d53e"
      },
      "source": [
        "model.predict(x_val)"
      ],
      "execution_count": null,
      "outputs": [
        {
          "output_type": "execute_result",
          "data": {
            "text/plain": [
              "array(['bad', 'good', 'good', 'good', 'good', 'bad', 'bad', 'bad', 'good',\n",
              "       'bad', 'good', 'bad', 'good', 'bad', 'bad', 'good', 'bad', 'good',\n",
              "       'good', 'bad', 'good', 'bad', 'good', 'good', 'bad', 'bad', 'bad',\n",
              "       'good', 'bad', 'good', 'bad', 'good', 'good', 'bad', 'good', 'bad',\n",
              "       'good', 'good', 'good', 'bad', 'bad', 'bad', 'bad', 'good', 'bad',\n",
              "       'bad', 'bad', 'good', 'good', 'bad', 'good', 'good', 'good', 'bad',\n",
              "       'bad', 'bad', 'bad', 'bad', 'good', 'good', 'good', 'good', 'good',\n",
              "       'bad', 'bad', 'bad', 'good', 'good', 'good', 'good', 'bad', 'good',\n",
              "       'good'], dtype=object)"
            ]
          },
          "metadata": {},
          "execution_count": 213
        }
      ]
    }
  ]
}